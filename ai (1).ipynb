{
 "cells": [
  {
   "cell_type": "code",
   "execution_count": null,
   "id": "5dcea83b-1dc4-4041-b2f5-fcb9462427ce",
   "metadata": {},
   "outputs": [],
   "source": []
  },
  {
   "cell_type": "code",
   "execution_count": 5,
   "id": "e7de22e9-e5c1-467e-b8c2-1ed10e5f696d",
   "metadata": {},
   "outputs": [
    {
     "data": {
      "text/html": [
       "        <script type=\"text/javascript\">\n",
       "        window.PlotlyConfig = {MathJaxConfig: 'local'};\n",
       "        if (window.MathJax && window.MathJax.Hub && window.MathJax.Hub.Config) {window.MathJax.Hub.Config({SVG: {font: \"STIX-Web\"}});}\n",
       "        if (typeof require !== 'undefined') {\n",
       "        require.undef(\"plotly\");\n",
       "        requirejs.config({\n",
       "            paths: {\n",
       "                'plotly': ['https://cdn.plot.ly/plotly-2.25.2.min']\n",
       "            }\n",
       "        });\n",
       "        require(['plotly'], function(Plotly) {\n",
       "            window._Plotly = Plotly;\n",
       "        });\n",
       "        }\n",
       "        </script>\n",
       "        "
      ]
     },
     "metadata": {},
     "output_type": "display_data"
    },
    {
     "data": {
      "text/html": [
       "        <script type=\"text/javascript\">\n",
       "        window.PlotlyConfig = {MathJaxConfig: 'local'};\n",
       "        if (window.MathJax && window.MathJax.Hub && window.MathJax.Hub.Config) {window.MathJax.Hub.Config({SVG: {font: \"STIX-Web\"}});}\n",
       "        if (typeof require !== 'undefined') {\n",
       "        require.undef(\"plotly\");\n",
       "        requirejs.config({\n",
       "            paths: {\n",
       "                'plotly': ['https://cdn.plot.ly/plotly-2.25.2.min']\n",
       "            }\n",
       "        });\n",
       "        require(['plotly'], function(Plotly) {\n",
       "            window._Plotly = Plotly;\n",
       "        });\n",
       "        }\n",
       "        </script>\n",
       "        "
      ]
     },
     "metadata": {},
     "output_type": "display_data"
    }
   ],
   "source": [
    "from wordcloud import WordCloud\n",
    "\n",
    "import pandas as pd\n",
    "\n",
    "import numpy as np\n",
    "\n",
    "import nltk\n",
    "\n",
    "from nltk.sentiment.vader import SentimentIntensityAnalyzer \n",
    "import re\n",
    "\n",
    "from textblob import TextBlob\n",
    "\n",
    "import seaborn as sns\n",
    "\n",
    "import matplotlib.pyplot as plt\n",
    "\n",
    "import cufflinks as cf\n",
    "%matplotlib inline\n",
    "from plotly.offline import init_notebook_mode, iplot\n",
    "init_notebook_mode(connected = True)\n",
    "cf.go_offline();\n",
    "import plotly.graph_objs as go\n",
    "from plotly.subplots import make_subplots\n",
    "\n",
    "import warnings\n",
    "\n"
   ]
  },
  {
   "cell_type": "code",
   "execution_count": 6,
   "id": "734d6d76-6af4-4cdf-a190-1a9bfe728d8d",
   "metadata": {},
   "outputs": [],
   "source": [
    "\n",
    "df = pd.read_csv('AI_Engineer_Dataset_Task_1.csv')\n"
   ]
  },
  {
   "cell_type": "code",
   "execution_count": 3,
   "id": "b332cd0e-dafa-4b05-9829-f612f0f4e2df",
   "metadata": {},
   "outputs": [
    {
     "data": {
      "text/html": [
       "<div>\n",
       "<style scoped>\n",
       "    .dataframe tbody tr th:only-of-type {\n",
       "        vertical-align: middle;\n",
       "    }\n",
       "\n",
       "    .dataframe tbody tr th {\n",
       "        vertical-align: top;\n",
       "    }\n",
       "\n",
       "    .dataframe thead th {\n",
       "        text-align: right;\n",
       "    }\n",
       "</style>\n",
       "<table border=\"1\" class=\"dataframe\">\n",
       "  <thead>\n",
       "    <tr style=\"text-align: right;\">\n",
       "      <th></th>\n",
       "      <th>AcademicYear</th>\n",
       "      <th>SemesterName</th>\n",
       "      <th>ParticipantID</th>\n",
       "      <th>DegreeLevel</th>\n",
       "      <th>Gender</th>\n",
       "      <th>Nationality</th>\n",
       "      <th>StudentProgram</th>\n",
       "      <th>CourseCode</th>\n",
       "      <th>CourseName</th>\n",
       "      <th>QuestionText</th>\n",
       "      <th>QuestionType</th>\n",
       "      <th>ParticipantResponse</th>\n",
       "    </tr>\n",
       "  </thead>\n",
       "  <tbody>\n",
       "    <tr>\n",
       "      <th>0</th>\n",
       "      <td>2021</td>\n",
       "      <td>Fall 2021 - 2022</td>\n",
       "      <td>7040336900</td>\n",
       "      <td>Bachelor</td>\n",
       "      <td>Female</td>\n",
       "      <td>Palestine</td>\n",
       "      <td>Bachelor of Business Administration</td>\n",
       "      <td>ACC 100</td>\n",
       "      <td>Principles of Accounting</td>\n",
       "      <td>CLO : Evaluate financial and managerial accoun...</td>\n",
       "      <td>Rating</td>\n",
       "      <td>Disagree</td>\n",
       "    </tr>\n",
       "    <tr>\n",
       "      <th>1</th>\n",
       "      <td>2021</td>\n",
       "      <td>Fall 2021 - 2022</td>\n",
       "      <td>6707335167</td>\n",
       "      <td>Bachelor</td>\n",
       "      <td>Male</td>\n",
       "      <td>United Arab Emirates</td>\n",
       "      <td>Bachelor of Business Administration</td>\n",
       "      <td>ACC 100</td>\n",
       "      <td>Principles of Accounting</td>\n",
       "      <td>The coursework and assignments are challenging</td>\n",
       "      <td>Rating</td>\n",
       "      <td>Strongly Disagree</td>\n",
       "    </tr>\n",
       "    <tr>\n",
       "      <th>2</th>\n",
       "      <td>2021</td>\n",
       "      <td>Fall 2021 - 2022</td>\n",
       "      <td>6707335167</td>\n",
       "      <td>Bachelor</td>\n",
       "      <td>Male</td>\n",
       "      <td>United Arab Emirates</td>\n",
       "      <td>Bachelor of Business Administration</td>\n",
       "      <td>ACC 100</td>\n",
       "      <td>Principles of Accounting</td>\n",
       "      <td>The course is relevant to my program of study</td>\n",
       "      <td>Rating</td>\n",
       "      <td>Strongly Disagree</td>\n",
       "    </tr>\n",
       "    <tr>\n",
       "      <th>3</th>\n",
       "      <td>2021</td>\n",
       "      <td>Fall 2021 - 2022</td>\n",
       "      <td>6707335167</td>\n",
       "      <td>Bachelor</td>\n",
       "      <td>Male</td>\n",
       "      <td>United Arab Emirates</td>\n",
       "      <td>Bachelor of Business Administration</td>\n",
       "      <td>ACC 100</td>\n",
       "      <td>Principles of Accounting</td>\n",
       "      <td>Course learning materials are available on the...</td>\n",
       "      <td>Rating</td>\n",
       "      <td>Strongly Disagree</td>\n",
       "    </tr>\n",
       "    <tr>\n",
       "      <th>4</th>\n",
       "      <td>2021</td>\n",
       "      <td>Fall 2021 - 2022</td>\n",
       "      <td>6707335167</td>\n",
       "      <td>Bachelor</td>\n",
       "      <td>Male</td>\n",
       "      <td>United Arab Emirates</td>\n",
       "      <td>Bachelor of Business Administration</td>\n",
       "      <td>ACC 100</td>\n",
       "      <td>Principles of Accounting</td>\n",
       "      <td>The faculty uses additional resources (other t...</td>\n",
       "      <td>Rating</td>\n",
       "      <td>Strongly Disagree</td>\n",
       "    </tr>\n",
       "  </tbody>\n",
       "</table>\n",
       "</div>"
      ],
      "text/plain": [
       "   AcademicYear      SemesterName  ParticipantID DegreeLevel  Gender  \\\n",
       "0          2021  Fall 2021 - 2022     7040336900    Bachelor  Female   \n",
       "1          2021  Fall 2021 - 2022     6707335167    Bachelor    Male   \n",
       "2          2021  Fall 2021 - 2022     6707335167    Bachelor    Male   \n",
       "3          2021  Fall 2021 - 2022     6707335167    Bachelor    Male   \n",
       "4          2021  Fall 2021 - 2022     6707335167    Bachelor    Male   \n",
       "\n",
       "            Nationality                       StudentProgram CourseCode  \\\n",
       "0             Palestine  Bachelor of Business Administration    ACC 100   \n",
       "1  United Arab Emirates  Bachelor of Business Administration    ACC 100   \n",
       "2  United Arab Emirates  Bachelor of Business Administration    ACC 100   \n",
       "3  United Arab Emirates  Bachelor of Business Administration    ACC 100   \n",
       "4  United Arab Emirates  Bachelor of Business Administration    ACC 100   \n",
       "\n",
       "                 CourseName  \\\n",
       "0  Principles of Accounting   \n",
       "1  Principles of Accounting   \n",
       "2  Principles of Accounting   \n",
       "3  Principles of Accounting   \n",
       "4  Principles of Accounting   \n",
       "\n",
       "                                        QuestionText QuestionType  \\\n",
       "0  CLO : Evaluate financial and managerial accoun...       Rating   \n",
       "1     The coursework and assignments are challenging       Rating   \n",
       "2      The course is relevant to my program of study       Rating   \n",
       "3  Course learning materials are available on the...       Rating   \n",
       "4  The faculty uses additional resources (other t...       Rating   \n",
       "\n",
       "  ParticipantResponse  \n",
       "0            Disagree  \n",
       "1   Strongly Disagree  \n",
       "2   Strongly Disagree  \n",
       "3   Strongly Disagree  \n",
       "4   Strongly Disagree  "
      ]
     },
     "execution_count": 3,
     "metadata": {},
     "output_type": "execute_result"
    }
   ],
   "source": [
    "df.head()\n"
   ]
  },
  {
   "cell_type": "code",
   "execution_count": 9,
   "id": "bc86b50e-3712-4628-9e93-25509a13c07e",
   "metadata": {},
   "outputs": [
    {
     "data": {
      "text/html": [
       "<div>\n",
       "<style scoped>\n",
       "    .dataframe tbody tr th:only-of-type {\n",
       "        vertical-align: middle;\n",
       "    }\n",
       "\n",
       "    .dataframe tbody tr th {\n",
       "        vertical-align: top;\n",
       "    }\n",
       "\n",
       "    .dataframe thead th {\n",
       "        text-align: right;\n",
       "    }\n",
       "</style>\n",
       "<table border=\"1\" class=\"dataframe\">\n",
       "  <thead>\n",
       "    <tr style=\"text-align: right;\">\n",
       "      <th></th>\n",
       "      <th>AcademicYear</th>\n",
       "      <th>SemesterName</th>\n",
       "      <th>ParticipantID</th>\n",
       "      <th>DegreeLevel</th>\n",
       "      <th>Gender</th>\n",
       "      <th>Nationality</th>\n",
       "      <th>StudentProgram</th>\n",
       "      <th>CourseCode</th>\n",
       "      <th>CourseName</th>\n",
       "      <th>QuestionText</th>\n",
       "      <th>QuestionType</th>\n",
       "      <th>ParticipantResponse</th>\n",
       "    </tr>\n",
       "  </thead>\n",
       "  <tbody>\n",
       "    <tr>\n",
       "      <th>0</th>\n",
       "      <td>2021</td>\n",
       "      <td>Fall 2021 - 2022</td>\n",
       "      <td>7040336900</td>\n",
       "      <td>Bachelor</td>\n",
       "      <td>Female</td>\n",
       "      <td>Palestine</td>\n",
       "      <td>Bachelor of Business Administration</td>\n",
       "      <td>ACC 100</td>\n",
       "      <td>Principles of Accounting</td>\n",
       "      <td>CLO : Evaluate financial and managerial accoun...</td>\n",
       "      <td>Rating</td>\n",
       "      <td>Disagree</td>\n",
       "    </tr>\n",
       "    <tr>\n",
       "      <th>1</th>\n",
       "      <td>2021</td>\n",
       "      <td>Fall 2021 - 2022</td>\n",
       "      <td>6707335167</td>\n",
       "      <td>Bachelor</td>\n",
       "      <td>Male</td>\n",
       "      <td>United Arab Emirates</td>\n",
       "      <td>Bachelor of Business Administration</td>\n",
       "      <td>ACC 100</td>\n",
       "      <td>Principles of Accounting</td>\n",
       "      <td>The coursework and assignments are challenging</td>\n",
       "      <td>Rating</td>\n",
       "      <td>Strongly Disagree</td>\n",
       "    </tr>\n",
       "    <tr>\n",
       "      <th>2</th>\n",
       "      <td>2021</td>\n",
       "      <td>Fall 2021 - 2022</td>\n",
       "      <td>6707335167</td>\n",
       "      <td>Bachelor</td>\n",
       "      <td>Male</td>\n",
       "      <td>United Arab Emirates</td>\n",
       "      <td>Bachelor of Business Administration</td>\n",
       "      <td>ACC 100</td>\n",
       "      <td>Principles of Accounting</td>\n",
       "      <td>The course is relevant to my program of study</td>\n",
       "      <td>Rating</td>\n",
       "      <td>Strongly Disagree</td>\n",
       "    </tr>\n",
       "    <tr>\n",
       "      <th>3</th>\n",
       "      <td>2021</td>\n",
       "      <td>Fall 2021 - 2022</td>\n",
       "      <td>6707335167</td>\n",
       "      <td>Bachelor</td>\n",
       "      <td>Male</td>\n",
       "      <td>United Arab Emirates</td>\n",
       "      <td>Bachelor of Business Administration</td>\n",
       "      <td>ACC 100</td>\n",
       "      <td>Principles of Accounting</td>\n",
       "      <td>Course learning materials are available on the...</td>\n",
       "      <td>Rating</td>\n",
       "      <td>Strongly Disagree</td>\n",
       "    </tr>\n",
       "    <tr>\n",
       "      <th>4</th>\n",
       "      <td>2021</td>\n",
       "      <td>Fall 2021 - 2022</td>\n",
       "      <td>6707335167</td>\n",
       "      <td>Bachelor</td>\n",
       "      <td>Male</td>\n",
       "      <td>United Arab Emirates</td>\n",
       "      <td>Bachelor of Business Administration</td>\n",
       "      <td>ACC 100</td>\n",
       "      <td>Principles of Accounting</td>\n",
       "      <td>The faculty uses additional resources (other t...</td>\n",
       "      <td>Rating</td>\n",
       "      <td>Strongly Disagree</td>\n",
       "    </tr>\n",
       "    <tr>\n",
       "      <th>...</th>\n",
       "      <td>...</td>\n",
       "      <td>...</td>\n",
       "      <td>...</td>\n",
       "      <td>...</td>\n",
       "      <td>...</td>\n",
       "      <td>...</td>\n",
       "      <td>...</td>\n",
       "      <td>...</td>\n",
       "      <td>...</td>\n",
       "      <td>...</td>\n",
       "      <td>...</td>\n",
       "      <td>...</td>\n",
       "    </tr>\n",
       "    <tr>\n",
       "      <th>180964</th>\n",
       "      <td>2021</td>\n",
       "      <td>Spring 2021 - 2022</td>\n",
       "      <td>7040334533</td>\n",
       "      <td>Bachelor</td>\n",
       "      <td>Male</td>\n",
       "      <td>India</td>\n",
       "      <td>Bachelor of Business Administration</td>\n",
       "      <td>TOL 200</td>\n",
       "      <td>Tolerance and Diversity</td>\n",
       "      <td>Do you have any recommendations or suggestions...</td>\n",
       "      <td>User Comment</td>\n",
       "      <td>NaN</td>\n",
       "    </tr>\n",
       "    <tr>\n",
       "      <th>180965</th>\n",
       "      <td>2021</td>\n",
       "      <td>Spring 2021 - 2022</td>\n",
       "      <td>6724000467</td>\n",
       "      <td>Bachelor</td>\n",
       "      <td>Male</td>\n",
       "      <td>United Arab Emirates</td>\n",
       "      <td>Bachelor of Arts in Security and Strategic Stu...</td>\n",
       "      <td>TOL 200</td>\n",
       "      <td>Tolerance and Diversity</td>\n",
       "      <td>CLO : analyze the relationship between diversi...</td>\n",
       "      <td>Rating</td>\n",
       "      <td>Agree</td>\n",
       "    </tr>\n",
       "    <tr>\n",
       "      <th>180966</th>\n",
       "      <td>2022</td>\n",
       "      <td>Fall 2022 - 2023</td>\n",
       "      <td>6373669933</td>\n",
       "      <td>Bachelor</td>\n",
       "      <td>Male</td>\n",
       "      <td>United Kingdom</td>\n",
       "      <td>Bachelor of Business Administration</td>\n",
       "      <td>TOL 200</td>\n",
       "      <td>Tolerance and Diversity</td>\n",
       "      <td>The faculty discussed the course syllabus at t...</td>\n",
       "      <td>Rating</td>\n",
       "      <td>Strongly Agree</td>\n",
       "    </tr>\n",
       "    <tr>\n",
       "      <th>180967</th>\n",
       "      <td>2022</td>\n",
       "      <td>Fall 2022 - 2023</td>\n",
       "      <td>6373669933</td>\n",
       "      <td>Bachelor</td>\n",
       "      <td>Male</td>\n",
       "      <td>United Kingdom</td>\n",
       "      <td>Bachelor of Business Administration</td>\n",
       "      <td>TOL 200</td>\n",
       "      <td>Tolerance and Diversity</td>\n",
       "      <td>The coursework and assignments are challenging</td>\n",
       "      <td>Rating</td>\n",
       "      <td>Strongly Agree</td>\n",
       "    </tr>\n",
       "    <tr>\n",
       "      <th>180968</th>\n",
       "      <td>2022</td>\n",
       "      <td>Fall 2022 - 2023</td>\n",
       "      <td>6373669933</td>\n",
       "      <td>Bachelor</td>\n",
       "      <td>Male</td>\n",
       "      <td>United Kingdom</td>\n",
       "      <td>Bachelor of Business Administration</td>\n",
       "      <td>TOL 200</td>\n",
       "      <td>Tolerance and Diversity</td>\n",
       "      <td>The course is relevant to my program of study</td>\n",
       "      <td>Rating</td>\n",
       "      <td>Strongly Agree</td>\n",
       "    </tr>\n",
       "  </tbody>\n",
       "</table>\n",
       "<p>180969 rows × 12 columns</p>\n",
       "</div>"
      ],
      "text/plain": [
       "        AcademicYear        SemesterName  ParticipantID DegreeLevel  Gender  \\\n",
       "0               2021    Fall 2021 - 2022     7040336900    Bachelor  Female   \n",
       "1               2021    Fall 2021 - 2022     6707335167    Bachelor    Male   \n",
       "2               2021    Fall 2021 - 2022     6707335167    Bachelor    Male   \n",
       "3               2021    Fall 2021 - 2022     6707335167    Bachelor    Male   \n",
       "4               2021    Fall 2021 - 2022     6707335167    Bachelor    Male   \n",
       "...              ...                 ...            ...         ...     ...   \n",
       "180964          2021  Spring 2021 - 2022     7040334533    Bachelor    Male   \n",
       "180965          2021  Spring 2021 - 2022     6724000467    Bachelor    Male   \n",
       "180966          2022    Fall 2022 - 2023     6373669933    Bachelor    Male   \n",
       "180967          2022    Fall 2022 - 2023     6373669933    Bachelor    Male   \n",
       "180968          2022    Fall 2022 - 2023     6373669933    Bachelor    Male   \n",
       "\n",
       "                 Nationality  \\\n",
       "0                  Palestine   \n",
       "1       United Arab Emirates   \n",
       "2       United Arab Emirates   \n",
       "3       United Arab Emirates   \n",
       "4       United Arab Emirates   \n",
       "...                      ...   \n",
       "180964                 India   \n",
       "180965  United Arab Emirates   \n",
       "180966        United Kingdom   \n",
       "180967        United Kingdom   \n",
       "180968        United Kingdom   \n",
       "\n",
       "                                           StudentProgram CourseCode  \\\n",
       "0                     Bachelor of Business Administration    ACC 100   \n",
       "1                     Bachelor of Business Administration    ACC 100   \n",
       "2                     Bachelor of Business Administration    ACC 100   \n",
       "3                     Bachelor of Business Administration    ACC 100   \n",
       "4                     Bachelor of Business Administration    ACC 100   \n",
       "...                                                   ...        ...   \n",
       "180964                Bachelor of Business Administration    TOL 200   \n",
       "180965  Bachelor of Arts in Security and Strategic Stu...    TOL 200   \n",
       "180966                Bachelor of Business Administration    TOL 200   \n",
       "180967                Bachelor of Business Administration    TOL 200   \n",
       "180968                Bachelor of Business Administration    TOL 200   \n",
       "\n",
       "                      CourseName  \\\n",
       "0       Principles of Accounting   \n",
       "1       Principles of Accounting   \n",
       "2       Principles of Accounting   \n",
       "3       Principles of Accounting   \n",
       "4       Principles of Accounting   \n",
       "...                          ...   \n",
       "180964   Tolerance and Diversity   \n",
       "180965   Tolerance and Diversity   \n",
       "180966   Tolerance and Diversity   \n",
       "180967   Tolerance and Diversity   \n",
       "180968   Tolerance and Diversity   \n",
       "\n",
       "                                             QuestionText  QuestionType  \\\n",
       "0       CLO : Evaluate financial and managerial accoun...        Rating   \n",
       "1          The coursework and assignments are challenging        Rating   \n",
       "2           The course is relevant to my program of study        Rating   \n",
       "3       Course learning materials are available on the...        Rating   \n",
       "4       The faculty uses additional resources (other t...        Rating   \n",
       "...                                                   ...           ...   \n",
       "180964  Do you have any recommendations or suggestions...  User Comment   \n",
       "180965  CLO : analyze the relationship between diversi...        Rating   \n",
       "180966  The faculty discussed the course syllabus at t...        Rating   \n",
       "180967     The coursework and assignments are challenging        Rating   \n",
       "180968      The course is relevant to my program of study        Rating   \n",
       "\n",
       "       ParticipantResponse  \n",
       "0                 Disagree  \n",
       "1        Strongly Disagree  \n",
       "2        Strongly Disagree  \n",
       "3        Strongly Disagree  \n",
       "4        Strongly Disagree  \n",
       "...                    ...  \n",
       "180964                 NaN  \n",
       "180965               Agree  \n",
       "180966      Strongly Agree  \n",
       "180967      Strongly Agree  \n",
       "180968      Strongly Agree  \n",
       "\n",
       "[180969 rows x 12 columns]"
      ]
     },
     "execution_count": 9,
     "metadata": {},
     "output_type": "execute_result"
    }
   ],
   "source": [
    "df\n"
   ]
  },
  {
   "cell_type": "code",
   "execution_count": 7,
   "id": "a3b7908c-3888-457b-a6ad-a028996efa46",
   "metadata": {},
   "outputs": [
    {
     "data": {
      "text/html": [
       "<div>\n",
       "<style scoped>\n",
       "    .dataframe tbody tr th:only-of-type {\n",
       "        vertical-align: middle;\n",
       "    }\n",
       "\n",
       "    .dataframe tbody tr th {\n",
       "        vertical-align: top;\n",
       "    }\n",
       "\n",
       "    .dataframe thead th {\n",
       "        text-align: right;\n",
       "    }\n",
       "</style>\n",
       "<table border=\"1\" class=\"dataframe\">\n",
       "  <thead>\n",
       "    <tr style=\"text-align: right;\">\n",
       "      <th></th>\n",
       "      <th>AcademicYear</th>\n",
       "      <th>SemesterName</th>\n",
       "      <th>ParticipantID</th>\n",
       "      <th>DegreeLevel</th>\n",
       "      <th>Gender</th>\n",
       "      <th>Nationality</th>\n",
       "      <th>StudentProgram</th>\n",
       "      <th>CourseCode</th>\n",
       "      <th>CourseName</th>\n",
       "      <th>QuestionText</th>\n",
       "      <th>QuestionType</th>\n",
       "      <th>ParticipantResponse</th>\n",
       "    </tr>\n",
       "  </thead>\n",
       "  <tbody>\n",
       "    <tr>\n",
       "      <th>0</th>\n",
       "      <td>2021</td>\n",
       "      <td>Fall 2021 - 2022</td>\n",
       "      <td>7040336900</td>\n",
       "      <td>Bachelor</td>\n",
       "      <td>Female</td>\n",
       "      <td>Palestine</td>\n",
       "      <td>Bachelor of Business Administration</td>\n",
       "      <td>ACC 100</td>\n",
       "      <td>Principles of Accounting</td>\n",
       "      <td>CLO : Evaluate financial and managerial accoun...</td>\n",
       "      <td>Rating</td>\n",
       "      <td>Disagree</td>\n",
       "    </tr>\n",
       "    <tr>\n",
       "      <th>1</th>\n",
       "      <td>2021</td>\n",
       "      <td>Fall 2021 - 2022</td>\n",
       "      <td>6707335167</td>\n",
       "      <td>Bachelor</td>\n",
       "      <td>Male</td>\n",
       "      <td>United Arab Emirates</td>\n",
       "      <td>Bachelor of Business Administration</td>\n",
       "      <td>ACC 100</td>\n",
       "      <td>Principles of Accounting</td>\n",
       "      <td>The coursework and assignments are challenging</td>\n",
       "      <td>Rating</td>\n",
       "      <td>Strongly Disagree</td>\n",
       "    </tr>\n",
       "    <tr>\n",
       "      <th>2</th>\n",
       "      <td>2021</td>\n",
       "      <td>Fall 2021 - 2022</td>\n",
       "      <td>6707335167</td>\n",
       "      <td>Bachelor</td>\n",
       "      <td>Male</td>\n",
       "      <td>United Arab Emirates</td>\n",
       "      <td>Bachelor of Business Administration</td>\n",
       "      <td>ACC 100</td>\n",
       "      <td>Principles of Accounting</td>\n",
       "      <td>The course is relevant to my program of study</td>\n",
       "      <td>Rating</td>\n",
       "      <td>Strongly Disagree</td>\n",
       "    </tr>\n",
       "    <tr>\n",
       "      <th>3</th>\n",
       "      <td>2021</td>\n",
       "      <td>Fall 2021 - 2022</td>\n",
       "      <td>6707335167</td>\n",
       "      <td>Bachelor</td>\n",
       "      <td>Male</td>\n",
       "      <td>United Arab Emirates</td>\n",
       "      <td>Bachelor of Business Administration</td>\n",
       "      <td>ACC 100</td>\n",
       "      <td>Principles of Accounting</td>\n",
       "      <td>Course learning materials are available on the...</td>\n",
       "      <td>Rating</td>\n",
       "      <td>Strongly Disagree</td>\n",
       "    </tr>\n",
       "    <tr>\n",
       "      <th>4</th>\n",
       "      <td>2021</td>\n",
       "      <td>Fall 2021 - 2022</td>\n",
       "      <td>6707335167</td>\n",
       "      <td>Bachelor</td>\n",
       "      <td>Male</td>\n",
       "      <td>United Arab Emirates</td>\n",
       "      <td>Bachelor of Business Administration</td>\n",
       "      <td>ACC 100</td>\n",
       "      <td>Principles of Accounting</td>\n",
       "      <td>The faculty uses additional resources (other t...</td>\n",
       "      <td>Rating</td>\n",
       "      <td>Strongly Disagree</td>\n",
       "    </tr>\n",
       "    <tr>\n",
       "      <th>...</th>\n",
       "      <td>...</td>\n",
       "      <td>...</td>\n",
       "      <td>...</td>\n",
       "      <td>...</td>\n",
       "      <td>...</td>\n",
       "      <td>...</td>\n",
       "      <td>...</td>\n",
       "      <td>...</td>\n",
       "      <td>...</td>\n",
       "      <td>...</td>\n",
       "      <td>...</td>\n",
       "      <td>...</td>\n",
       "    </tr>\n",
       "    <tr>\n",
       "      <th>180963</th>\n",
       "      <td>2021</td>\n",
       "      <td>Spring 2021 - 2022</td>\n",
       "      <td>6724000467</td>\n",
       "      <td>Bachelor</td>\n",
       "      <td>Male</td>\n",
       "      <td>United Arab Emirates</td>\n",
       "      <td>Bachelor of Arts in Security and Strategic Stu...</td>\n",
       "      <td>TOL 200</td>\n",
       "      <td>Tolerance and Diversity</td>\n",
       "      <td>CLO : apply lessons from diversity and toleran...</td>\n",
       "      <td>Rating</td>\n",
       "      <td>Strongly Agree</td>\n",
       "    </tr>\n",
       "    <tr>\n",
       "      <th>180965</th>\n",
       "      <td>2021</td>\n",
       "      <td>Spring 2021 - 2022</td>\n",
       "      <td>6724000467</td>\n",
       "      <td>Bachelor</td>\n",
       "      <td>Male</td>\n",
       "      <td>United Arab Emirates</td>\n",
       "      <td>Bachelor of Arts in Security and Strategic Stu...</td>\n",
       "      <td>TOL 200</td>\n",
       "      <td>Tolerance and Diversity</td>\n",
       "      <td>CLO : analyze the relationship between diversi...</td>\n",
       "      <td>Rating</td>\n",
       "      <td>Agree</td>\n",
       "    </tr>\n",
       "    <tr>\n",
       "      <th>180966</th>\n",
       "      <td>2022</td>\n",
       "      <td>Fall 2022 - 2023</td>\n",
       "      <td>6373669933</td>\n",
       "      <td>Bachelor</td>\n",
       "      <td>Male</td>\n",
       "      <td>United Kingdom</td>\n",
       "      <td>Bachelor of Business Administration</td>\n",
       "      <td>TOL 200</td>\n",
       "      <td>Tolerance and Diversity</td>\n",
       "      <td>The faculty discussed the course syllabus at t...</td>\n",
       "      <td>Rating</td>\n",
       "      <td>Strongly Agree</td>\n",
       "    </tr>\n",
       "    <tr>\n",
       "      <th>180967</th>\n",
       "      <td>2022</td>\n",
       "      <td>Fall 2022 - 2023</td>\n",
       "      <td>6373669933</td>\n",
       "      <td>Bachelor</td>\n",
       "      <td>Male</td>\n",
       "      <td>United Kingdom</td>\n",
       "      <td>Bachelor of Business Administration</td>\n",
       "      <td>TOL 200</td>\n",
       "      <td>Tolerance and Diversity</td>\n",
       "      <td>The coursework and assignments are challenging</td>\n",
       "      <td>Rating</td>\n",
       "      <td>Strongly Agree</td>\n",
       "    </tr>\n",
       "    <tr>\n",
       "      <th>180968</th>\n",
       "      <td>2022</td>\n",
       "      <td>Fall 2022 - 2023</td>\n",
       "      <td>6373669933</td>\n",
       "      <td>Bachelor</td>\n",
       "      <td>Male</td>\n",
       "      <td>United Kingdom</td>\n",
       "      <td>Bachelor of Business Administration</td>\n",
       "      <td>TOL 200</td>\n",
       "      <td>Tolerance and Diversity</td>\n",
       "      <td>The course is relevant to my program of study</td>\n",
       "      <td>Rating</td>\n",
       "      <td>Strongly Agree</td>\n",
       "    </tr>\n",
       "  </tbody>\n",
       "</table>\n",
       "<p>163625 rows × 12 columns</p>\n",
       "</div>"
      ],
      "text/plain": [
       "        AcademicYear        SemesterName  ParticipantID DegreeLevel  Gender  \\\n",
       "0               2021    Fall 2021 - 2022     7040336900    Bachelor  Female   \n",
       "1               2021    Fall 2021 - 2022     6707335167    Bachelor    Male   \n",
       "2               2021    Fall 2021 - 2022     6707335167    Bachelor    Male   \n",
       "3               2021    Fall 2021 - 2022     6707335167    Bachelor    Male   \n",
       "4               2021    Fall 2021 - 2022     6707335167    Bachelor    Male   \n",
       "...              ...                 ...            ...         ...     ...   \n",
       "180963          2021  Spring 2021 - 2022     6724000467    Bachelor    Male   \n",
       "180965          2021  Spring 2021 - 2022     6724000467    Bachelor    Male   \n",
       "180966          2022    Fall 2022 - 2023     6373669933    Bachelor    Male   \n",
       "180967          2022    Fall 2022 - 2023     6373669933    Bachelor    Male   \n",
       "180968          2022    Fall 2022 - 2023     6373669933    Bachelor    Male   \n",
       "\n",
       "                 Nationality  \\\n",
       "0                  Palestine   \n",
       "1       United Arab Emirates   \n",
       "2       United Arab Emirates   \n",
       "3       United Arab Emirates   \n",
       "4       United Arab Emirates   \n",
       "...                      ...   \n",
       "180963  United Arab Emirates   \n",
       "180965  United Arab Emirates   \n",
       "180966        United Kingdom   \n",
       "180967        United Kingdom   \n",
       "180968        United Kingdom   \n",
       "\n",
       "                                           StudentProgram CourseCode  \\\n",
       "0                     Bachelor of Business Administration    ACC 100   \n",
       "1                     Bachelor of Business Administration    ACC 100   \n",
       "2                     Bachelor of Business Administration    ACC 100   \n",
       "3                     Bachelor of Business Administration    ACC 100   \n",
       "4                     Bachelor of Business Administration    ACC 100   \n",
       "...                                                   ...        ...   \n",
       "180963  Bachelor of Arts in Security and Strategic Stu...    TOL 200   \n",
       "180965  Bachelor of Arts in Security and Strategic Stu...    TOL 200   \n",
       "180966                Bachelor of Business Administration    TOL 200   \n",
       "180967                Bachelor of Business Administration    TOL 200   \n",
       "180968                Bachelor of Business Administration    TOL 200   \n",
       "\n",
       "                      CourseName  \\\n",
       "0       Principles of Accounting   \n",
       "1       Principles of Accounting   \n",
       "2       Principles of Accounting   \n",
       "3       Principles of Accounting   \n",
       "4       Principles of Accounting   \n",
       "...                          ...   \n",
       "180963   Tolerance and Diversity   \n",
       "180965   Tolerance and Diversity   \n",
       "180966   Tolerance and Diversity   \n",
       "180967   Tolerance and Diversity   \n",
       "180968   Tolerance and Diversity   \n",
       "\n",
       "                                             QuestionText QuestionType  \\\n",
       "0       CLO : Evaluate financial and managerial accoun...       Rating   \n",
       "1          The coursework and assignments are challenging       Rating   \n",
       "2           The course is relevant to my program of study       Rating   \n",
       "3       Course learning materials are available on the...       Rating   \n",
       "4       The faculty uses additional resources (other t...       Rating   \n",
       "...                                                   ...          ...   \n",
       "180963  CLO : apply lessons from diversity and toleran...       Rating   \n",
       "180965  CLO : analyze the relationship between diversi...       Rating   \n",
       "180966  The faculty discussed the course syllabus at t...       Rating   \n",
       "180967     The coursework and assignments are challenging       Rating   \n",
       "180968      The course is relevant to my program of study       Rating   \n",
       "\n",
       "       ParticipantResponse  \n",
       "0                 Disagree  \n",
       "1        Strongly Disagree  \n",
       "2        Strongly Disagree  \n",
       "3        Strongly Disagree  \n",
       "4        Strongly Disagree  \n",
       "...                    ...  \n",
       "180963      Strongly Agree  \n",
       "180965               Agree  \n",
       "180966      Strongly Agree  \n",
       "180967      Strongly Agree  \n",
       "180968      Strongly Agree  \n",
       "\n",
       "[163625 rows x 12 columns]"
      ]
     },
     "execution_count": 7,
     "metadata": {},
     "output_type": "execute_result"
    }
   ],
   "source": [
    "df = df.drop(df[df['QuestionType'] == 'User Comment'].index)\n",
    "df"
   ]
  },
  {
   "cell_type": "code",
   "execution_count": 8,
   "id": "ed08d086-de49-4074-8cba-d19edfea2f46",
   "metadata": {},
   "outputs": [
    {
     "data": {
      "text/html": [
       "<div>\n",
       "<style scoped>\n",
       "    .dataframe tbody tr th:only-of-type {\n",
       "        vertical-align: middle;\n",
       "    }\n",
       "\n",
       "    .dataframe tbody tr th {\n",
       "        vertical-align: top;\n",
       "    }\n",
       "\n",
       "    .dataframe thead th {\n",
       "        text-align: right;\n",
       "    }\n",
       "</style>\n",
       "<table border=\"1\" class=\"dataframe\">\n",
       "  <thead>\n",
       "    <tr style=\"text-align: right;\">\n",
       "      <th></th>\n",
       "      <th>AcademicYear</th>\n",
       "      <th>SemesterName</th>\n",
       "      <th>ParticipantID</th>\n",
       "      <th>DegreeLevel</th>\n",
       "      <th>Gender</th>\n",
       "      <th>Nationality</th>\n",
       "      <th>StudentProgram</th>\n",
       "      <th>CourseCode</th>\n",
       "      <th>CourseName</th>\n",
       "      <th>QuestionText</th>\n",
       "      <th>QuestionType</th>\n",
       "      <th>ParticipantResponse</th>\n",
       "    </tr>\n",
       "  </thead>\n",
       "  <tbody>\n",
       "    <tr>\n",
       "      <th>0</th>\n",
       "      <td>2021</td>\n",
       "      <td>Fall 2021 - 2022</td>\n",
       "      <td>7040336900</td>\n",
       "      <td>Bachelor</td>\n",
       "      <td>Female</td>\n",
       "      <td>Palestine</td>\n",
       "      <td>Bachelor of Business Administration</td>\n",
       "      <td>ACC 100</td>\n",
       "      <td>Principles of Accounting</td>\n",
       "      <td>CLO : Evaluate financial and managerial accoun...</td>\n",
       "      <td>Rating</td>\n",
       "      <td>disagree</td>\n",
       "    </tr>\n",
       "    <tr>\n",
       "      <th>1</th>\n",
       "      <td>2021</td>\n",
       "      <td>Fall 2021 - 2022</td>\n",
       "      <td>6707335167</td>\n",
       "      <td>Bachelor</td>\n",
       "      <td>Male</td>\n",
       "      <td>United Arab Emirates</td>\n",
       "      <td>Bachelor of Business Administration</td>\n",
       "      <td>ACC 100</td>\n",
       "      <td>Principles of Accounting</td>\n",
       "      <td>The coursework and assignments are challenging</td>\n",
       "      <td>Rating</td>\n",
       "      <td>strongly disagree</td>\n",
       "    </tr>\n",
       "    <tr>\n",
       "      <th>2</th>\n",
       "      <td>2021</td>\n",
       "      <td>Fall 2021 - 2022</td>\n",
       "      <td>6707335167</td>\n",
       "      <td>Bachelor</td>\n",
       "      <td>Male</td>\n",
       "      <td>United Arab Emirates</td>\n",
       "      <td>Bachelor of Business Administration</td>\n",
       "      <td>ACC 100</td>\n",
       "      <td>Principles of Accounting</td>\n",
       "      <td>The course is relevant to my program of study</td>\n",
       "      <td>Rating</td>\n",
       "      <td>strongly disagree</td>\n",
       "    </tr>\n",
       "    <tr>\n",
       "      <th>3</th>\n",
       "      <td>2021</td>\n",
       "      <td>Fall 2021 - 2022</td>\n",
       "      <td>6707335167</td>\n",
       "      <td>Bachelor</td>\n",
       "      <td>Male</td>\n",
       "      <td>United Arab Emirates</td>\n",
       "      <td>Bachelor of Business Administration</td>\n",
       "      <td>ACC 100</td>\n",
       "      <td>Principles of Accounting</td>\n",
       "      <td>Course learning materials are available on the...</td>\n",
       "      <td>Rating</td>\n",
       "      <td>strongly disagree</td>\n",
       "    </tr>\n",
       "    <tr>\n",
       "      <th>4</th>\n",
       "      <td>2021</td>\n",
       "      <td>Fall 2021 - 2022</td>\n",
       "      <td>6707335167</td>\n",
       "      <td>Bachelor</td>\n",
       "      <td>Male</td>\n",
       "      <td>United Arab Emirates</td>\n",
       "      <td>Bachelor of Business Administration</td>\n",
       "      <td>ACC 100</td>\n",
       "      <td>Principles of Accounting</td>\n",
       "      <td>The faculty uses additional resources (other t...</td>\n",
       "      <td>Rating</td>\n",
       "      <td>strongly disagree</td>\n",
       "    </tr>\n",
       "    <tr>\n",
       "      <th>...</th>\n",
       "      <td>...</td>\n",
       "      <td>...</td>\n",
       "      <td>...</td>\n",
       "      <td>...</td>\n",
       "      <td>...</td>\n",
       "      <td>...</td>\n",
       "      <td>...</td>\n",
       "      <td>...</td>\n",
       "      <td>...</td>\n",
       "      <td>...</td>\n",
       "      <td>...</td>\n",
       "      <td>...</td>\n",
       "    </tr>\n",
       "    <tr>\n",
       "      <th>180963</th>\n",
       "      <td>2021</td>\n",
       "      <td>Spring 2021 - 2022</td>\n",
       "      <td>6724000467</td>\n",
       "      <td>Bachelor</td>\n",
       "      <td>Male</td>\n",
       "      <td>United Arab Emirates</td>\n",
       "      <td>Bachelor of Arts in Security and Strategic Stu...</td>\n",
       "      <td>TOL 200</td>\n",
       "      <td>Tolerance and Diversity</td>\n",
       "      <td>CLO : apply lessons from diversity and toleran...</td>\n",
       "      <td>Rating</td>\n",
       "      <td>strongly agree</td>\n",
       "    </tr>\n",
       "    <tr>\n",
       "      <th>180965</th>\n",
       "      <td>2021</td>\n",
       "      <td>Spring 2021 - 2022</td>\n",
       "      <td>6724000467</td>\n",
       "      <td>Bachelor</td>\n",
       "      <td>Male</td>\n",
       "      <td>United Arab Emirates</td>\n",
       "      <td>Bachelor of Arts in Security and Strategic Stu...</td>\n",
       "      <td>TOL 200</td>\n",
       "      <td>Tolerance and Diversity</td>\n",
       "      <td>CLO : analyze the relationship between diversi...</td>\n",
       "      <td>Rating</td>\n",
       "      <td>agree</td>\n",
       "    </tr>\n",
       "    <tr>\n",
       "      <th>180966</th>\n",
       "      <td>2022</td>\n",
       "      <td>Fall 2022 - 2023</td>\n",
       "      <td>6373669933</td>\n",
       "      <td>Bachelor</td>\n",
       "      <td>Male</td>\n",
       "      <td>United Kingdom</td>\n",
       "      <td>Bachelor of Business Administration</td>\n",
       "      <td>TOL 200</td>\n",
       "      <td>Tolerance and Diversity</td>\n",
       "      <td>The faculty discussed the course syllabus at t...</td>\n",
       "      <td>Rating</td>\n",
       "      <td>strongly agree</td>\n",
       "    </tr>\n",
       "    <tr>\n",
       "      <th>180967</th>\n",
       "      <td>2022</td>\n",
       "      <td>Fall 2022 - 2023</td>\n",
       "      <td>6373669933</td>\n",
       "      <td>Bachelor</td>\n",
       "      <td>Male</td>\n",
       "      <td>United Kingdom</td>\n",
       "      <td>Bachelor of Business Administration</td>\n",
       "      <td>TOL 200</td>\n",
       "      <td>Tolerance and Diversity</td>\n",
       "      <td>The coursework and assignments are challenging</td>\n",
       "      <td>Rating</td>\n",
       "      <td>strongly agree</td>\n",
       "    </tr>\n",
       "    <tr>\n",
       "      <th>180968</th>\n",
       "      <td>2022</td>\n",
       "      <td>Fall 2022 - 2023</td>\n",
       "      <td>6373669933</td>\n",
       "      <td>Bachelor</td>\n",
       "      <td>Male</td>\n",
       "      <td>United Kingdom</td>\n",
       "      <td>Bachelor of Business Administration</td>\n",
       "      <td>TOL 200</td>\n",
       "      <td>Tolerance and Diversity</td>\n",
       "      <td>The course is relevant to my program of study</td>\n",
       "      <td>Rating</td>\n",
       "      <td>strongly agree</td>\n",
       "    </tr>\n",
       "  </tbody>\n",
       "</table>\n",
       "<p>163625 rows × 12 columns</p>\n",
       "</div>"
      ],
      "text/plain": [
       "        AcademicYear        SemesterName  ParticipantID DegreeLevel  Gender  \\\n",
       "0               2021    Fall 2021 - 2022     7040336900    Bachelor  Female   \n",
       "1               2021    Fall 2021 - 2022     6707335167    Bachelor    Male   \n",
       "2               2021    Fall 2021 - 2022     6707335167    Bachelor    Male   \n",
       "3               2021    Fall 2021 - 2022     6707335167    Bachelor    Male   \n",
       "4               2021    Fall 2021 - 2022     6707335167    Bachelor    Male   \n",
       "...              ...                 ...            ...         ...     ...   \n",
       "180963          2021  Spring 2021 - 2022     6724000467    Bachelor    Male   \n",
       "180965          2021  Spring 2021 - 2022     6724000467    Bachelor    Male   \n",
       "180966          2022    Fall 2022 - 2023     6373669933    Bachelor    Male   \n",
       "180967          2022    Fall 2022 - 2023     6373669933    Bachelor    Male   \n",
       "180968          2022    Fall 2022 - 2023     6373669933    Bachelor    Male   \n",
       "\n",
       "                 Nationality  \\\n",
       "0                  Palestine   \n",
       "1       United Arab Emirates   \n",
       "2       United Arab Emirates   \n",
       "3       United Arab Emirates   \n",
       "4       United Arab Emirates   \n",
       "...                      ...   \n",
       "180963  United Arab Emirates   \n",
       "180965  United Arab Emirates   \n",
       "180966        United Kingdom   \n",
       "180967        United Kingdom   \n",
       "180968        United Kingdom   \n",
       "\n",
       "                                           StudentProgram CourseCode  \\\n",
       "0                     Bachelor of Business Administration    ACC 100   \n",
       "1                     Bachelor of Business Administration    ACC 100   \n",
       "2                     Bachelor of Business Administration    ACC 100   \n",
       "3                     Bachelor of Business Administration    ACC 100   \n",
       "4                     Bachelor of Business Administration    ACC 100   \n",
       "...                                                   ...        ...   \n",
       "180963  Bachelor of Arts in Security and Strategic Stu...    TOL 200   \n",
       "180965  Bachelor of Arts in Security and Strategic Stu...    TOL 200   \n",
       "180966                Bachelor of Business Administration    TOL 200   \n",
       "180967                Bachelor of Business Administration    TOL 200   \n",
       "180968                Bachelor of Business Administration    TOL 200   \n",
       "\n",
       "                      CourseName  \\\n",
       "0       Principles of Accounting   \n",
       "1       Principles of Accounting   \n",
       "2       Principles of Accounting   \n",
       "3       Principles of Accounting   \n",
       "4       Principles of Accounting   \n",
       "...                          ...   \n",
       "180963   Tolerance and Diversity   \n",
       "180965   Tolerance and Diversity   \n",
       "180966   Tolerance and Diversity   \n",
       "180967   Tolerance and Diversity   \n",
       "180968   Tolerance and Diversity   \n",
       "\n",
       "                                             QuestionText QuestionType  \\\n",
       "0       CLO : Evaluate financial and managerial accoun...       Rating   \n",
       "1          The coursework and assignments are challenging       Rating   \n",
       "2           The course is relevant to my program of study       Rating   \n",
       "3       Course learning materials are available on the...       Rating   \n",
       "4       The faculty uses additional resources (other t...       Rating   \n",
       "...                                                   ...          ...   \n",
       "180963  CLO : apply lessons from diversity and toleran...       Rating   \n",
       "180965  CLO : analyze the relationship between diversi...       Rating   \n",
       "180966  The faculty discussed the course syllabus at t...       Rating   \n",
       "180967     The coursework and assignments are challenging       Rating   \n",
       "180968      The course is relevant to my program of study       Rating   \n",
       "\n",
       "       ParticipantResponse  \n",
       "0                 disagree  \n",
       "1        strongly disagree  \n",
       "2        strongly disagree  \n",
       "3        strongly disagree  \n",
       "4        strongly disagree  \n",
       "...                    ...  \n",
       "180963      strongly agree  \n",
       "180965               agree  \n",
       "180966      strongly agree  \n",
       "180967      strongly agree  \n",
       "180968      strongly agree  \n",
       "\n",
       "[163625 rows x 12 columns]"
      ]
     },
     "execution_count": 8,
     "metadata": {},
     "output_type": "execute_result"
    }
   ],
   "source": [
    "rt = lambda x: re.sub(\"[^a-zA-Z]\", ' ',str(x))\n",
    "df[\"ParticipantResponse\"] = df[\"ParticipantResponse\"].map(rt)\n",
    "df[\"ParticipantResponse\"] = df[\"ParticipantResponse\"].str.lower()\n",
    "df\n"
   ]
  },
  {
   "cell_type": "code",
   "execution_count": null,
   "id": "a381ee6c-b74c-463f-ac52-503d196a9781",
   "metadata": {},
   "outputs": [],
   "source": []
  },
  {
   "cell_type": "code",
   "execution_count": 9,
   "id": "6627b794-da0d-4b4a-8133-cdcac018b4c8",
   "metadata": {},
   "outputs": [],
   "source": [
    "constraints = ['RED','BLUE','YELLOW','GREEN','BLACK','WHITE','#23432','#12321','#21232','#ED232','#212FE','#AA232']\n",
    "def categorical_variable_summary(df,column_name):\n",
    "    fig= make_subplots(rows = 1, cols =2,\n",
    "                        specs=[[{'type': 'xy'},{'type':'domain'}]])\n",
    "    fig.add_trace(go.Bar(y = df[column_name].value_counts().values.tolist(),\n",
    "                         x = [str(i) for i in df[column_name].value_counts().index],\n",
    "                         text =df[column_name].value_counts().values.tolist(),\n",
    "                         name = column_name,\n",
    "                         textposition = 'auto',\n",
    "                        showlegend = False,\n",
    "                         marker = dict(line =dict(color ='white',\n",
    "                                                 width =1)\n",
    "                                               )),\n",
    "                  row =1, col =1)\n",
    "\n",
    "    fig.add_trace(go.Pie(labels = df[column_name].value_counts().keys(),\n",
    "                         values =df[column_name].value_counts().values,\n",
    "                         name = column_name,\n",
    "                         textposition = 'auto',\n",
    "                        showlegend = False),             \n",
    "                row =1, col =2)\n",
    "    fig.update_layout(title={'text': column_name,\n",
    "                            'y':0.9,\n",
    "                            'x':0.5,\n",
    "                            'xanchor':'center',\n",
    "                            'yanchor':'top'},\n",
    "                     template = 'plotly_white')\n",
    "    iplot(fig)"
   ]
  },
  {
   "cell_type": "code",
   "execution_count": 108,
   "id": "9d616908-e4d7-40ce-b628-802cc8fd2289",
   "metadata": {},
   "outputs": [
    {
     "data": {
      "application/vnd.plotly.v1+json": {
       "config": {
        "linkText": "Export to plot.ly",
        "plotlyServerURL": "https://plot.ly",
        "showLink": false
       },
       "data": [
        {
         "marker": {
          "line": {
           "color": "white",
           "width": 1
          }
         },
         "name": "AcademicYear",
         "showlegend": false,
         "text": [
          "86243",
          "77301",
          "81"
         ],
         "textposition": "auto",
         "type": "bar",
         "x": [
          "2022",
          "2021",
          "2023"
         ],
         "xaxis": "x",
         "y": [
          86243,
          77301,
          81
         ],
         "yaxis": "y"
        },
        {
         "domain": {
          "x": [
           0.55,
           1
          ],
          "y": [
           0,
           1
          ]
         },
         "labels": [
          2022,
          2021,
          2023
         ],
         "name": "AcademicYear",
         "showlegend": false,
         "textposition": "auto",
         "type": "pie",
         "values": [
          86243,
          77301,
          81
         ]
        }
       ],
       "layout": {
        "autosize": true,
        "template": {
         "data": {
          "bar": [
           {
            "error_x": {
             "color": "#2a3f5f"
            },
            "error_y": {
             "color": "#2a3f5f"
            },
            "marker": {
             "line": {
              "color": "white",
              "width": 0.5
             },
             "pattern": {
              "fillmode": "overlay",
              "size": 10,
              "solidity": 0.2
             }
            },
            "type": "bar"
           }
          ],
          "barpolar": [
           {
            "marker": {
             "line": {
              "color": "white",
              "width": 0.5
             },
             "pattern": {
              "fillmode": "overlay",
              "size": 10,
              "solidity": 0.2
             }
            },
            "type": "barpolar"
           }
          ],
          "carpet": [
           {
            "aaxis": {
             "endlinecolor": "#2a3f5f",
             "gridcolor": "#C8D4E3",
             "linecolor": "#C8D4E3",
             "minorgridcolor": "#C8D4E3",
             "startlinecolor": "#2a3f5f"
            },
            "baxis": {
             "endlinecolor": "#2a3f5f",
             "gridcolor": "#C8D4E3",
             "linecolor": "#C8D4E3",
             "minorgridcolor": "#C8D4E3",
             "startlinecolor": "#2a3f5f"
            },
            "type": "carpet"
           }
          ],
          "choropleth": [
           {
            "colorbar": {
             "outlinewidth": 0,
             "ticks": ""
            },
            "type": "choropleth"
           }
          ],
          "contour": [
           {
            "colorbar": {
             "outlinewidth": 0,
             "ticks": ""
            },
            "colorscale": [
             [
              0,
              "#0d0887"
             ],
             [
              0.1111111111111111,
              "#46039f"
             ],
             [
              0.2222222222222222,
              "#7201a8"
             ],
             [
              0.3333333333333333,
              "#9c179e"
             ],
             [
              0.4444444444444444,
              "#bd3786"
             ],
             [
              0.5555555555555556,
              "#d8576b"
             ],
             [
              0.6666666666666666,
              "#ed7953"
             ],
             [
              0.7777777777777778,
              "#fb9f3a"
             ],
             [
              0.8888888888888888,
              "#fdca26"
             ],
             [
              1,
              "#f0f921"
             ]
            ],
            "type": "contour"
           }
          ],
          "contourcarpet": [
           {
            "colorbar": {
             "outlinewidth": 0,
             "ticks": ""
            },
            "type": "contourcarpet"
           }
          ],
          "heatmap": [
           {
            "colorbar": {
             "outlinewidth": 0,
             "ticks": ""
            },
            "colorscale": [
             [
              0,
              "#0d0887"
             ],
             [
              0.1111111111111111,
              "#46039f"
             ],
             [
              0.2222222222222222,
              "#7201a8"
             ],
             [
              0.3333333333333333,
              "#9c179e"
             ],
             [
              0.4444444444444444,
              "#bd3786"
             ],
             [
              0.5555555555555556,
              "#d8576b"
             ],
             [
              0.6666666666666666,
              "#ed7953"
             ],
             [
              0.7777777777777778,
              "#fb9f3a"
             ],
             [
              0.8888888888888888,
              "#fdca26"
             ],
             [
              1,
              "#f0f921"
             ]
            ],
            "type": "heatmap"
           }
          ],
          "heatmapgl": [
           {
            "colorbar": {
             "outlinewidth": 0,
             "ticks": ""
            },
            "colorscale": [
             [
              0,
              "#0d0887"
             ],
             [
              0.1111111111111111,
              "#46039f"
             ],
             [
              0.2222222222222222,
              "#7201a8"
             ],
             [
              0.3333333333333333,
              "#9c179e"
             ],
             [
              0.4444444444444444,
              "#bd3786"
             ],
             [
              0.5555555555555556,
              "#d8576b"
             ],
             [
              0.6666666666666666,
              "#ed7953"
             ],
             [
              0.7777777777777778,
              "#fb9f3a"
             ],
             [
              0.8888888888888888,
              "#fdca26"
             ],
             [
              1,
              "#f0f921"
             ]
            ],
            "type": "heatmapgl"
           }
          ],
          "histogram": [
           {
            "marker": {
             "pattern": {
              "fillmode": "overlay",
              "size": 10,
              "solidity": 0.2
             }
            },
            "type": "histogram"
           }
          ],
          "histogram2d": [
           {
            "colorbar": {
             "outlinewidth": 0,
             "ticks": ""
            },
            "colorscale": [
             [
              0,
              "#0d0887"
             ],
             [
              0.1111111111111111,
              "#46039f"
             ],
             [
              0.2222222222222222,
              "#7201a8"
             ],
             [
              0.3333333333333333,
              "#9c179e"
             ],
             [
              0.4444444444444444,
              "#bd3786"
             ],
             [
              0.5555555555555556,
              "#d8576b"
             ],
             [
              0.6666666666666666,
              "#ed7953"
             ],
             [
              0.7777777777777778,
              "#fb9f3a"
             ],
             [
              0.8888888888888888,
              "#fdca26"
             ],
             [
              1,
              "#f0f921"
             ]
            ],
            "type": "histogram2d"
           }
          ],
          "histogram2dcontour": [
           {
            "colorbar": {
             "outlinewidth": 0,
             "ticks": ""
            },
            "colorscale": [
             [
              0,
              "#0d0887"
             ],
             [
              0.1111111111111111,
              "#46039f"
             ],
             [
              0.2222222222222222,
              "#7201a8"
             ],
             [
              0.3333333333333333,
              "#9c179e"
             ],
             [
              0.4444444444444444,
              "#bd3786"
             ],
             [
              0.5555555555555556,
              "#d8576b"
             ],
             [
              0.6666666666666666,
              "#ed7953"
             ],
             [
              0.7777777777777778,
              "#fb9f3a"
             ],
             [
              0.8888888888888888,
              "#fdca26"
             ],
             [
              1,
              "#f0f921"
             ]
            ],
            "type": "histogram2dcontour"
           }
          ],
          "mesh3d": [
           {
            "colorbar": {
             "outlinewidth": 0,
             "ticks": ""
            },
            "type": "mesh3d"
           }
          ],
          "parcoords": [
           {
            "line": {
             "colorbar": {
              "outlinewidth": 0,
              "ticks": ""
             }
            },
            "type": "parcoords"
           }
          ],
          "pie": [
           {
            "automargin": true,
            "type": "pie"
           }
          ],
          "scatter": [
           {
            "fillpattern": {
             "fillmode": "overlay",
             "size": 10,
             "solidity": 0.2
            },
            "type": "scatter"
           }
          ],
          "scatter3d": [
           {
            "line": {
             "colorbar": {
              "outlinewidth": 0,
              "ticks": ""
             }
            },
            "marker": {
             "colorbar": {
              "outlinewidth": 0,
              "ticks": ""
             }
            },
            "type": "scatter3d"
           }
          ],
          "scattercarpet": [
           {
            "marker": {
             "colorbar": {
              "outlinewidth": 0,
              "ticks": ""
             }
            },
            "type": "scattercarpet"
           }
          ],
          "scattergeo": [
           {
            "marker": {
             "colorbar": {
              "outlinewidth": 0,
              "ticks": ""
             }
            },
            "type": "scattergeo"
           }
          ],
          "scattergl": [
           {
            "marker": {
             "colorbar": {
              "outlinewidth": 0,
              "ticks": ""
             }
            },
            "type": "scattergl"
           }
          ],
          "scattermapbox": [
           {
            "marker": {
             "colorbar": {
              "outlinewidth": 0,
              "ticks": ""
             }
            },
            "type": "scattermapbox"
           }
          ],
          "scatterpolar": [
           {
            "marker": {
             "colorbar": {
              "outlinewidth": 0,
              "ticks": ""
             }
            },
            "type": "scatterpolar"
           }
          ],
          "scatterpolargl": [
           {
            "marker": {
             "colorbar": {
              "outlinewidth": 0,
              "ticks": ""
             }
            },
            "type": "scatterpolargl"
           }
          ],
          "scatterternary": [
           {
            "marker": {
             "colorbar": {
              "outlinewidth": 0,
              "ticks": ""
             }
            },
            "type": "scatterternary"
           }
          ],
          "surface": [
           {
            "colorbar": {
             "outlinewidth": 0,
             "ticks": ""
            },
            "colorscale": [
             [
              0,
              "#0d0887"
             ],
             [
              0.1111111111111111,
              "#46039f"
             ],
             [
              0.2222222222222222,
              "#7201a8"
             ],
             [
              0.3333333333333333,
              "#9c179e"
             ],
             [
              0.4444444444444444,
              "#bd3786"
             ],
             [
              0.5555555555555556,
              "#d8576b"
             ],
             [
              0.6666666666666666,
              "#ed7953"
             ],
             [
              0.7777777777777778,
              "#fb9f3a"
             ],
             [
              0.8888888888888888,
              "#fdca26"
             ],
             [
              1,
              "#f0f921"
             ]
            ],
            "type": "surface"
           }
          ],
          "table": [
           {
            "cells": {
             "fill": {
              "color": "#EBF0F8"
             },
             "line": {
              "color": "white"
             }
            },
            "header": {
             "fill": {
              "color": "#C8D4E3"
             },
             "line": {
              "color": "white"
             }
            },
            "type": "table"
           }
          ]
         },
         "layout": {
          "annotationdefaults": {
           "arrowcolor": "#2a3f5f",
           "arrowhead": 0,
           "arrowwidth": 1
          },
          "autotypenumbers": "strict",
          "coloraxis": {
           "colorbar": {
            "outlinewidth": 0,
            "ticks": ""
           }
          },
          "colorscale": {
           "diverging": [
            [
             0,
             "#8e0152"
            ],
            [
             0.1,
             "#c51b7d"
            ],
            [
             0.2,
             "#de77ae"
            ],
            [
             0.3,
             "#f1b6da"
            ],
            [
             0.4,
             "#fde0ef"
            ],
            [
             0.5,
             "#f7f7f7"
            ],
            [
             0.6,
             "#e6f5d0"
            ],
            [
             0.7,
             "#b8e186"
            ],
            [
             0.8,
             "#7fbc41"
            ],
            [
             0.9,
             "#4d9221"
            ],
            [
             1,
             "#276419"
            ]
           ],
           "sequential": [
            [
             0,
             "#0d0887"
            ],
            [
             0.1111111111111111,
             "#46039f"
            ],
            [
             0.2222222222222222,
             "#7201a8"
            ],
            [
             0.3333333333333333,
             "#9c179e"
            ],
            [
             0.4444444444444444,
             "#bd3786"
            ],
            [
             0.5555555555555556,
             "#d8576b"
            ],
            [
             0.6666666666666666,
             "#ed7953"
            ],
            [
             0.7777777777777778,
             "#fb9f3a"
            ],
            [
             0.8888888888888888,
             "#fdca26"
            ],
            [
             1,
             "#f0f921"
            ]
           ],
           "sequentialminus": [
            [
             0,
             "#0d0887"
            ],
            [
             0.1111111111111111,
             "#46039f"
            ],
            [
             0.2222222222222222,
             "#7201a8"
            ],
            [
             0.3333333333333333,
             "#9c179e"
            ],
            [
             0.4444444444444444,
             "#bd3786"
            ],
            [
             0.5555555555555556,
             "#d8576b"
            ],
            [
             0.6666666666666666,
             "#ed7953"
            ],
            [
             0.7777777777777778,
             "#fb9f3a"
            ],
            [
             0.8888888888888888,
             "#fdca26"
            ],
            [
             1,
             "#f0f921"
            ]
           ]
          },
          "colorway": [
           "#636efa",
           "#EF553B",
           "#00cc96",
           "#ab63fa",
           "#FFA15A",
           "#19d3f3",
           "#FF6692",
           "#B6E880",
           "#FF97FF",
           "#FECB52"
          ],
          "font": {
           "color": "#2a3f5f"
          },
          "geo": {
           "bgcolor": "white",
           "lakecolor": "white",
           "landcolor": "white",
           "showlakes": true,
           "showland": true,
           "subunitcolor": "#C8D4E3"
          },
          "hoverlabel": {
           "align": "left"
          },
          "hovermode": "closest",
          "mapbox": {
           "style": "light"
          },
          "paper_bgcolor": "white",
          "plot_bgcolor": "white",
          "polar": {
           "angularaxis": {
            "gridcolor": "#EBF0F8",
            "linecolor": "#EBF0F8",
            "ticks": ""
           },
           "bgcolor": "white",
           "radialaxis": {
            "gridcolor": "#EBF0F8",
            "linecolor": "#EBF0F8",
            "ticks": ""
           }
          },
          "scene": {
           "xaxis": {
            "backgroundcolor": "white",
            "gridcolor": "#DFE8F3",
            "gridwidth": 2,
            "linecolor": "#EBF0F8",
            "showbackground": true,
            "ticks": "",
            "zerolinecolor": "#EBF0F8"
           },
           "yaxis": {
            "backgroundcolor": "white",
            "gridcolor": "#DFE8F3",
            "gridwidth": 2,
            "linecolor": "#EBF0F8",
            "showbackground": true,
            "ticks": "",
            "zerolinecolor": "#EBF0F8"
           },
           "zaxis": {
            "backgroundcolor": "white",
            "gridcolor": "#DFE8F3",
            "gridwidth": 2,
            "linecolor": "#EBF0F8",
            "showbackground": true,
            "ticks": "",
            "zerolinecolor": "#EBF0F8"
           }
          },
          "shapedefaults": {
           "line": {
            "color": "#2a3f5f"
           }
          },
          "ternary": {
           "aaxis": {
            "gridcolor": "#DFE8F3",
            "linecolor": "#A2B1C6",
            "ticks": ""
           },
           "baxis": {
            "gridcolor": "#DFE8F3",
            "linecolor": "#A2B1C6",
            "ticks": ""
           },
           "bgcolor": "white",
           "caxis": {
            "gridcolor": "#DFE8F3",
            "linecolor": "#A2B1C6",
            "ticks": ""
           }
          },
          "title": {
           "x": 0.05
          },
          "xaxis": {
           "automargin": true,
           "gridcolor": "#EBF0F8",
           "linecolor": "#EBF0F8",
           "ticks": "",
           "title": {
            "standoff": 15
           },
           "zerolinecolor": "#EBF0F8",
           "zerolinewidth": 2
          },
          "yaxis": {
           "automargin": true,
           "gridcolor": "#EBF0F8",
           "linecolor": "#EBF0F8",
           "ticks": "",
           "title": {
            "standoff": 15
           },
           "zerolinecolor": "#EBF0F8",
           "zerolinewidth": 2
          }
         }
        },
        "title": {
         "text": "AcademicYear",
         "x": 0.5,
         "xanchor": "center",
         "y": 0.9,
         "yanchor": "top"
        },
        "xaxis": {
         "anchor": "y",
         "autorange": true,
         "domain": [
          0,
          0.45
         ],
         "range": [
          -0.5,
          2.5
         ],
         "type": "category"
        },
        "yaxis": {
         "anchor": "x",
         "autorange": true,
         "domain": [
          0,
          1
         ],
         "range": [
          0,
          90782.1052631579
         ],
         "type": "linear"
        }
       }
      },
      "image/png": "[encoded data removed]",
      "text/html": [
       "<div>                            <div id=\"e7058ab1-faff-4765-90d3-774236362d1c\" class=\"plotly-graph-div\" style=\"height:525px; width:100%;\"></div>            <script type=\"text/javascript\">                require([\"plotly\"], function(Plotly) {                    window.PLOTLYENV=window.PLOTLYENV || {};                                    if (document.getElementById(\"e7058ab1-faff-4765-90d3-774236362d1c\")) {                    Plotly.newPlot(                        \"e7058ab1-faff-4765-90d3-774236362d1c\",                        [{\"marker\":{\"line\":{\"color\":\"white\",\"width\":1}},\"name\":\"AcademicYear\",\"showlegend\":false,\"text\":[\"86243\",\"77301\",\"81\"],\"textposition\":\"auto\",\"x\":[\"2022\",\"2021\",\"2023\"],\"xaxis\":\"x\",\"y\":[86243,77301,81],\"yaxis\":\"y\",\"type\":\"bar\"},{\"domain\":{\"x\":[0.55,1.0],\"y\":[0.0,1.0]},\"labels\":[2022,2021,2023],\"name\":\"AcademicYear\",\"showlegend\":false,\"textposition\":\"auto\",\"values\":[86243,77301,81],\"type\":\"pie\"}],                        {\"template\":{\"data\":{\"barpolar\":[{\"marker\":{\"line\":{\"color\":\"white\",\"width\":0.5},\"pattern\":{\"fillmode\":\"overlay\",\"size\":10,\"solidity\":0.2}},\"type\":\"barpolar\"}],\"bar\":[{\"error_x\":{\"color\":\"#2a3f5f\"},\"error_y\":{\"color\":\"#2a3f5f\"},\"marker\":{\"line\":{\"color\":\"white\",\"width\":0.5},\"pattern\":{\"fillmode\":\"overlay\",\"size\":10,\"solidity\":0.2}},\"type\":\"bar\"}],\"carpet\":[{\"aaxis\":{\"endlinecolor\":\"#2a3f5f\",\"gridcolor\":\"#C8D4E3\",\"linecolor\":\"#C8D4E3\",\"minorgridcolor\":\"#C8D4E3\",\"startlinecolor\":\"#2a3f5f\"},\"baxis\":{\"endlinecolor\":\"#2a3f5f\",\"gridcolor\":\"#C8D4E3\",\"linecolor\":\"#C8D4E3\",\"minorgridcolor\":\"#C8D4E3\",\"startlinecolor\":\"#2a3f5f\"},\"type\":\"carpet\"}],\"choropleth\":[{\"colorbar\":{\"outlinewidth\":0,\"ticks\":\"\"},\"type\":\"choropleth\"}],\"contourcarpet\":[{\"colorbar\":{\"outlinewidth\":0,\"ticks\":\"\"},\"type\":\"contourcarpet\"}],\"contour\":[{\"colorbar\":{\"outlinewidth\":0,\"ticks\":\"\"},\"colorscale\":[[0.0,\"#0d0887\"],[0.1111111111111111,\"#46039f\"],[0.2222222222222222,\"#7201a8\"],[0.3333333333333333,\"#9c179e\"],[0.4444444444444444,\"#bd3786\"],[0.5555555555555556,\"#d8576b\"],[0.6666666666666666,\"#ed7953\"],[0.7777777777777778,\"#fb9f3a\"],[0.8888888888888888,\"#fdca26\"],[1.0,\"#f0f921\"]],\"type\":\"contour\"}],\"heatmapgl\":[{\"colorbar\":{\"outlinewidth\":0,\"ticks\":\"\"},\"colorscale\":[[0.0,\"#0d0887\"],[0.1111111111111111,\"#46039f\"],[0.2222222222222222,\"#7201a8\"],[0.3333333333333333,\"#9c179e\"],[0.4444444444444444,\"#bd3786\"],[0.5555555555555556,\"#d8576b\"],[0.6666666666666666,\"#ed7953\"],[0.7777777777777778,\"#fb9f3a\"],[0.8888888888888888,\"#fdca26\"],[1.0,\"#f0f921\"]],\"type\":\"heatmapgl\"}],\"heatmap\":[{\"colorbar\":{\"outlinewidth\":0,\"ticks\":\"\"},\"colorscale\":[[0.0,\"#0d0887\"],[0.1111111111111111,\"#46039f\"],[0.2222222222222222,\"#7201a8\"],[0.3333333333333333,\"#9c179e\"],[0.4444444444444444,\"#bd3786\"],[0.5555555555555556,\"#d8576b\"],[0.6666666666666666,\"#ed7953\"],[0.7777777777777778,\"#fb9f3a\"],[0.8888888888888888,\"#fdca26\"],[1.0,\"#f0f921\"]],\"type\":\"heatmap\"}],\"histogram2dcontour\":[{\"colorbar\":{\"outlinewidth\":0,\"ticks\":\"\"},\"colorscale\":[[0.0,\"#0d0887\"],[0.1111111111111111,\"#46039f\"],[0.2222222222222222,\"#7201a8\"],[0.3333333333333333,\"#9c179e\"],[0.4444444444444444,\"#bd3786\"],[0.5555555555555556,\"#d8576b\"],[0.6666666666666666,\"#ed7953\"],[0.7777777777777778,\"#fb9f3a\"],[0.8888888888888888,\"#fdca26\"],[1.0,\"#f0f921\"]],\"type\":\"histogram2dcontour\"}],\"histogram2d\":[{\"colorbar\":{\"outlinewidth\":0,\"ticks\":\"\"},\"colorscale\":[[0.0,\"#0d0887\"],[0.1111111111111111,\"#46039f\"],[0.2222222222222222,\"#7201a8\"],[0.3333333333333333,\"#9c179e\"],[0.4444444444444444,\"#bd3786\"],[0.5555555555555556,\"#d8576b\"],[0.6666666666666666,\"#ed7953\"],[0.7777777777777778,\"#fb9f3a\"],[0.8888888888888888,\"#fdca26\"],[1.0,\"#f0f921\"]],\"type\":\"histogram2d\"}],\"histogram\":[{\"marker\":{\"pattern\":{\"fillmode\":\"overlay\",\"size\":10,\"solidity\":0.2}},\"type\":\"histogram\"}],\"mesh3d\":[{\"colorbar\":{\"outlinewidth\":0,\"ticks\":\"\"},\"type\":\"mesh3d\"}],\"parcoords\":[{\"line\":{\"colorbar\":{\"outlinewidth\":0,\"ticks\":\"\"}},\"type\":\"parcoords\"}],\"pie\":[{\"automargin\":true,\"type\":\"pie\"}],\"scatter3d\":[{\"line\":{\"colorbar\":{\"outlinewidth\":0,\"ticks\":\"\"}},\"marker\":{\"colorbar\":{\"outlinewidth\":0,\"ticks\":\"\"}},\"type\":\"scatter3d\"}],\"scattercarpet\":[{\"marker\":{\"colorbar\":{\"outlinewidth\":0,\"ticks\":\"\"}},\"type\":\"scattercarpet\"}],\"scattergeo\":[{\"marker\":{\"colorbar\":{\"outlinewidth\":0,\"ticks\":\"\"}},\"type\":\"scattergeo\"}],\"scattergl\":[{\"marker\":{\"colorbar\":{\"outlinewidth\":0,\"ticks\":\"\"}},\"type\":\"scattergl\"}],\"scattermapbox\":[{\"marker\":{\"colorbar\":{\"outlinewidth\":0,\"ticks\":\"\"}},\"type\":\"scattermapbox\"}],\"scatterpolargl\":[{\"marker\":{\"colorbar\":{\"outlinewidth\":0,\"ticks\":\"\"}},\"type\":\"scatterpolargl\"}],\"scatterpolar\":[{\"marker\":{\"colorbar\":{\"outlinewidth\":0,\"ticks\":\"\"}},\"type\":\"scatterpolar\"}],\"scatter\":[{\"fillpattern\":{\"fillmode\":\"overlay\",\"size\":10,\"solidity\":0.2},\"type\":\"scatter\"}],\"scatterternary\":[{\"marker\":{\"colorbar\":{\"outlinewidth\":0,\"ticks\":\"\"}},\"type\":\"scatterternary\"}],\"surface\":[{\"colorbar\":{\"outlinewidth\":0,\"ticks\":\"\"},\"colorscale\":[[0.0,\"#0d0887\"],[0.1111111111111111,\"#46039f\"],[0.2222222222222222,\"#7201a8\"],[0.3333333333333333,\"#9c179e\"],[0.4444444444444444,\"#bd3786\"],[0.5555555555555556,\"#d8576b\"],[0.6666666666666666,\"#ed7953\"],[0.7777777777777778,\"#fb9f3a\"],[0.8888888888888888,\"#fdca26\"],[1.0,\"#f0f921\"]],\"type\":\"surface\"}],\"table\":[{\"cells\":{\"fill\":{\"color\":\"#EBF0F8\"},\"line\":{\"color\":\"white\"}},\"header\":{\"fill\":{\"color\":\"#C8D4E3\"},\"line\":{\"color\":\"white\"}},\"type\":\"table\"}]},\"layout\":{\"annotationdefaults\":{\"arrowcolor\":\"#2a3f5f\",\"arrowhead\":0,\"arrowwidth\":1},\"autotypenumbers\":\"strict\",\"coloraxis\":{\"colorbar\":{\"outlinewidth\":0,\"ticks\":\"\"}},\"colorscale\":{\"diverging\":[[0,\"#8e0152\"],[0.1,\"#c51b7d\"],[0.2,\"#de77ae\"],[0.3,\"#f1b6da\"],[0.4,\"#fde0ef\"],[0.5,\"#f7f7f7\"],[0.6,\"#e6f5d0\"],[0.7,\"#b8e186\"],[0.8,\"#7fbc41\"],[0.9,\"#4d9221\"],[1,\"#276419\"]],\"sequential\":[[0.0,\"#0d0887\"],[0.1111111111111111,\"#46039f\"],[0.2222222222222222,\"#7201a8\"],[0.3333333333333333,\"#9c179e\"],[0.4444444444444444,\"#bd3786\"],[0.5555555555555556,\"#d8576b\"],[0.6666666666666666,\"#ed7953\"],[0.7777777777777778,\"#fb9f3a\"],[0.8888888888888888,\"#fdca26\"],[1.0,\"#f0f921\"]],\"sequentialminus\":[[0.0,\"#0d0887\"],[0.1111111111111111,\"#46039f\"],[0.2222222222222222,\"#7201a8\"],[0.3333333333333333,\"#9c179e\"],[0.4444444444444444,\"#bd3786\"],[0.5555555555555556,\"#d8576b\"],[0.6666666666666666,\"#ed7953\"],[0.7777777777777778,\"#fb9f3a\"],[0.8888888888888888,\"#fdca26\"],[1.0,\"#f0f921\"]]},\"colorway\":[\"#636efa\",\"#EF553B\",\"#00cc96\",\"#ab63fa\",\"#FFA15A\",\"#19d3f3\",\"#FF6692\",\"#B6E880\",\"#FF97FF\",\"#FECB52\"],\"font\":{\"color\":\"#2a3f5f\"},\"geo\":{\"bgcolor\":\"white\",\"lakecolor\":\"white\",\"landcolor\":\"white\",\"showlakes\":true,\"showland\":true,\"subunitcolor\":\"#C8D4E3\"},\"hoverlabel\":{\"align\":\"left\"},\"hovermode\":\"closest\",\"mapbox\":{\"style\":\"light\"},\"paper_bgcolor\":\"white\",\"plot_bgcolor\":\"white\",\"polar\":{\"angularaxis\":{\"gridcolor\":\"#EBF0F8\",\"linecolor\":\"#EBF0F8\",\"ticks\":\"\"},\"bgcolor\":\"white\",\"radialaxis\":{\"gridcolor\":\"#EBF0F8\",\"linecolor\":\"#EBF0F8\",\"ticks\":\"\"}},\"scene\":{\"xaxis\":{\"backgroundcolor\":\"white\",\"gridcolor\":\"#DFE8F3\",\"gridwidth\":2,\"linecolor\":\"#EBF0F8\",\"showbackground\":true,\"ticks\":\"\",\"zerolinecolor\":\"#EBF0F8\"},\"yaxis\":{\"backgroundcolor\":\"white\",\"gridcolor\":\"#DFE8F3\",\"gridwidth\":2,\"linecolor\":\"#EBF0F8\",\"showbackground\":true,\"ticks\":\"\",\"zerolinecolor\":\"#EBF0F8\"},\"zaxis\":{\"backgroundcolor\":\"white\",\"gridcolor\":\"#DFE8F3\",\"gridwidth\":2,\"linecolor\":\"#EBF0F8\",\"showbackground\":true,\"ticks\":\"\",\"zerolinecolor\":\"#EBF0F8\"}},\"shapedefaults\":{\"line\":{\"color\":\"#2a3f5f\"}},\"ternary\":{\"aaxis\":{\"gridcolor\":\"#DFE8F3\",\"linecolor\":\"#A2B1C6\",\"ticks\":\"\"},\"baxis\":{\"gridcolor\":\"#DFE8F3\",\"linecolor\":\"#A2B1C6\",\"ticks\":\"\"},\"bgcolor\":\"white\",\"caxis\":{\"gridcolor\":\"#DFE8F3\",\"linecolor\":\"#A2B1C6\",\"ticks\":\"\"}},\"title\":{\"x\":0.05},\"xaxis\":{\"automargin\":true,\"gridcolor\":\"#EBF0F8\",\"linecolor\":\"#EBF0F8\",\"ticks\":\"\",\"title\":{\"standoff\":15},\"zerolinecolor\":\"#EBF0F8\",\"zerolinewidth\":2},\"yaxis\":{\"automargin\":true,\"gridcolor\":\"#EBF0F8\",\"linecolor\":\"#EBF0F8\",\"ticks\":\"\",\"title\":{\"standoff\":15},\"zerolinecolor\":\"#EBF0F8\",\"zerolinewidth\":2}}},\"title\":{\"text\":\"AcademicYear\",\"x\":0.5,\"xanchor\":\"center\",\"y\":0.9,\"yanchor\":\"top\"},\"xaxis\":{\"anchor\":\"y\",\"domain\":[0.0,0.45]},\"yaxis\":{\"anchor\":\"x\",\"domain\":[0.0,1.0]}},                        {\"responsive\": true}                    ).then(function(){\n",
       "                            \n",
       "var gd = document.getElementById('e7058ab1-faff-4765-90d3-774236362d1c');\n",
       "var x = new MutationObserver(function (mutations, observer) {{\n",
       "        var display = window.getComputedStyle(gd).display;\n",
       "        if (!display || display === 'none') {{\n",
       "            console.log([gd, 'removed!']);\n",
       "            Plotly.purge(gd);\n",
       "            observer.disconnect();\n",
       "        }}\n",
       "}});\n",
       "\n",
       "// Listen for the removal of the full notebook cells\n",
       "var notebookContainer = gd.closest('#notebook-container');\n",
       "if (notebookContainer) {{\n",
       "    x.observe(notebookContainer, {childList: true});\n",
       "}}\n",
       "\n",
       "// Listen for the clearing of the current output cell\n",
       "var outputEl = gd.closest('.output');\n",
       "if (outputEl) {{\n",
       "    x.observe(outputEl, {childList: true});\n",
       "}}\n",
       "\n",
       "                        })                };                });            </script>        </div>"
      ]
     },
     "metadata": {},
     "output_type": "display_data"
    }
   ],
   "source": [
    "categorical_variable_summary(df, 'AcademicYear')\n"
   ]
  },
  {
   "cell_type": "code",
   "execution_count": null,
   "id": "13506721-754b-472f-9200-6965bdbda49a",
   "metadata": {},
   "outputs": [],
   "source": [
    "from vaderSentiment.vaderSentiment import SentimentIntensityAnalyzer\n",
    "def sentiment_calc(text):\n",
    "    try:\n",
    "        return TextBlob(text).sentiment\n",
    "    except:\n",
    "        return None\n",
    "\n",
    "\n",
    "df[['polarity' , 'subjectivity']] = df['ParticipantResponse'].apply(lambda Text:pd.Series(sentiment_calc(Text)))\n",
    "\n",
    "for index, row in df['ParticipantResponse'].items():\n",
    "        score = SentimentIntensityAnalyzer().polarity_scores(row)\n",
    "\n",
    "        neg = score['neg']\n",
    "        neu = score['neu']\n",
    "        pos = score['pos']\n",
    "\n",
    "        if neg > pos:\n",
    "            df.loc[index,'sentiment'] = \"Negative\"\n",
    "        elif pos > neg:\n",
    "            df.loc[index, 'sentiment'] = \"Positive\"\n",
    "        else:\n",
    "            df.loc[index, 'sentiment'] = \"Neutral\"\n",
    "            "
   ]
  },
  {
   "cell_type": "code",
   "execution_count": 12,
   "id": "6d8ccc4c-c857-4284-b4b2-1f1b8768f6d0",
   "metadata": {},
   "outputs": [
    {
     "data": {
      "application/vnd.plotly.v1+json": {
       "config": {
        "linkText": "Export to plot.ly",
        "plotlyServerURL": "https://plot.ly",
        "showLink": false
       },
       "data": [
        {
         "marker": {
          "line": {
           "color": "white",
           "width": 1
          }
         },
         "name": "sentiment",
         "showlegend": false,
         "text": [
          "39845",
          "6797",
          "6354"
         ],
         "textposition": "auto",
         "type": "bar",
         "x": [
          "Positive",
          "Negative",
          "Neutral"
         ],
         "xaxis": "x",
         "y": [
          39845,
          6797,
          6354
         ],
         "yaxis": "y"
        },
        {
         "domain": {
          "x": [
           0.55,
           1
          ],
          "y": [
           0,
           1
          ]
         },
         "labels": [
          "Positive",
          "Negative",
          "Neutral"
         ],
         "name": "sentiment",
         "showlegend": false,
         "textposition": "auto",
         "type": "pie",
         "values": [
          39845,
          6797,
          6354
         ]
        }
       ],
       "layout": {
        "autosize": true,
        "template": {
         "data": {
          "bar": [
           {
            "error_x": {
             "color": "#2a3f5f"
            },
            "error_y": {
             "color": "#2a3f5f"
            },
            "marker": {
             "line": {
              "color": "white",
              "width": 0.5
             },
             "pattern": {
              "fillmode": "overlay",
              "size": 10,
              "solidity": 0.2
             }
            },
            "type": "bar"
           }
          ],
          "barpolar": [
           {
            "marker": {
             "line": {
              "color": "white",
              "width": 0.5
             },
             "pattern": {
              "fillmode": "overlay",
              "size": 10,
              "solidity": 0.2
             }
            },
            "type": "barpolar"
           }
          ],
          "carpet": [
           {
            "aaxis": {
             "endlinecolor": "#2a3f5f",
             "gridcolor": "#C8D4E3",
             "linecolor": "#C8D4E3",
             "minorgridcolor": "#C8D4E3",
             "startlinecolor": "#2a3f5f"
            },
            "baxis": {
             "endlinecolor": "#2a3f5f",
             "gridcolor": "#C8D4E3",
             "linecolor": "#C8D4E3",
             "minorgridcolor": "#C8D4E3",
             "startlinecolor": "#2a3f5f"
            },
            "type": "carpet"
           }
          ],
          "choropleth": [
           {
            "colorbar": {
             "outlinewidth": 0,
             "ticks": ""
            },
            "type": "choropleth"
           }
          ],
          "contour": [
           {
            "colorbar": {
             "outlinewidth": 0,
             "ticks": ""
            },
            "colorscale": [
             [
              0,
              "#0d0887"
             ],
             [
              0.1111111111111111,
              "#46039f"
             ],
             [
              0.2222222222222222,
              "#7201a8"
             ],
             [
              0.3333333333333333,
              "#9c179e"
             ],
             [
              0.4444444444444444,
              "#bd3786"
             ],
             [
              0.5555555555555556,
              "#d8576b"
             ],
             [
              0.6666666666666666,
              "#ed7953"
             ],
             [
              0.7777777777777778,
              "#fb9f3a"
             ],
             [
              0.8888888888888888,
              "#fdca26"
             ],
             [
              1,
              "#f0f921"
             ]
            ],
            "type": "contour"
           }
          ],
          "contourcarpet": [
           {
            "colorbar": {
             "outlinewidth": 0,
             "ticks": ""
            },
            "type": "contourcarpet"
           }
          ],
          "heatmap": [
           {
            "colorbar": {
             "outlinewidth": 0,
             "ticks": ""
            },
            "colorscale": [
             [
              0,
              "#0d0887"
             ],
             [
              0.1111111111111111,
              "#46039f"
             ],
             [
              0.2222222222222222,
              "#7201a8"
             ],
             [
              0.3333333333333333,
              "#9c179e"
             ],
             [
              0.4444444444444444,
              "#bd3786"
             ],
             [
              0.5555555555555556,
              "#d8576b"
             ],
             [
              0.6666666666666666,
              "#ed7953"
             ],
             [
              0.7777777777777778,
              "#fb9f3a"
             ],
             [
              0.8888888888888888,
              "#fdca26"
             ],
             [
              1,
              "#f0f921"
             ]
            ],
            "type": "heatmap"
           }
          ],
          "heatmapgl": [
           {
            "colorbar": {
             "outlinewidth": 0,
             "ticks": ""
            },
            "colorscale": [
             [
              0,
              "#0d0887"
             ],
             [
              0.1111111111111111,
              "#46039f"
             ],
             [
              0.2222222222222222,
              "#7201a8"
             ],
             [
              0.3333333333333333,
              "#9c179e"
             ],
             [
              0.4444444444444444,
              "#bd3786"
             ],
             [
              0.5555555555555556,
              "#d8576b"
             ],
             [
              0.6666666666666666,
              "#ed7953"
             ],
             [
              0.7777777777777778,
              "#fb9f3a"
             ],
             [
              0.8888888888888888,
              "#fdca26"
             ],
             [
              1,
              "#f0f921"
             ]
            ],
            "type": "heatmapgl"
           }
          ],
          "histogram": [
           {
            "marker": {
             "pattern": {
              "fillmode": "overlay",
              "size": 10,
              "solidity": 0.2
             }
            },
            "type": "histogram"
           }
          ],
          "histogram2d": [
           {
            "colorbar": {
             "outlinewidth": 0,
             "ticks": ""
            },
            "colorscale": [
             [
              0,
              "#0d0887"
             ],
             [
              0.1111111111111111,
              "#46039f"
             ],
             [
              0.2222222222222222,
              "#7201a8"
             ],
             [
              0.3333333333333333,
              "#9c179e"
             ],
             [
              0.4444444444444444,
              "#bd3786"
             ],
             [
              0.5555555555555556,
              "#d8576b"
             ],
             [
              0.6666666666666666,
              "#ed7953"
             ],
             [
              0.7777777777777778,
              "#fb9f3a"
             ],
             [
              0.8888888888888888,
              "#fdca26"
             ],
             [
              1,
              "#f0f921"
             ]
            ],
            "type": "histogram2d"
           }
          ],
          "histogram2dcontour": [
           {
            "colorbar": {
             "outlinewidth": 0,
             "ticks": ""
            },
            "colorscale": [
             [
              0,
              "#0d0887"
             ],
             [
              0.1111111111111111,
              "#46039f"
             ],
             [
              0.2222222222222222,
              "#7201a8"
             ],
             [
              0.3333333333333333,
              "#9c179e"
             ],
             [
              0.4444444444444444,
              "#bd3786"
             ],
             [
              0.5555555555555556,
              "#d8576b"
             ],
             [
              0.6666666666666666,
              "#ed7953"
             ],
             [
              0.7777777777777778,
              "#fb9f3a"
             ],
             [
              0.8888888888888888,
              "#fdca26"
             ],
             [
              1,
              "#f0f921"
             ]
            ],
            "type": "histogram2dcontour"
           }
          ],
          "mesh3d": [
           {
            "colorbar": {
             "outlinewidth": 0,
             "ticks": ""
            },
            "type": "mesh3d"
           }
          ],
          "parcoords": [
           {
            "line": {
             "colorbar": {
              "outlinewidth": 0,
              "ticks": ""
             }
            },
            "type": "parcoords"
           }
          ],
          "pie": [
           {
            "automargin": true,
            "type": "pie"
           }
          ],
          "scatter": [
           {
            "fillpattern": {
             "fillmode": "overlay",
             "size": 10,
             "solidity": 0.2
            },
            "type": "scatter"
           }
          ],
          "scatter3d": [
           {
            "line": {
             "colorbar": {
              "outlinewidth": 0,
              "ticks": ""
             }
            },
            "marker": {
             "colorbar": {
              "outlinewidth": 0,
              "ticks": ""
             }
            },
            "type": "scatter3d"
           }
          ],
          "scattercarpet": [
           {
            "marker": {
             "colorbar": {
              "outlinewidth": 0,
              "ticks": ""
             }
            },
            "type": "scattercarpet"
           }
          ],
          "scattergeo": [
           {
            "marker": {
             "colorbar": {
              "outlinewidth": 0,
              "ticks": ""
             }
            },
            "type": "scattergeo"
           }
          ],
          "scattergl": [
           {
            "marker": {
             "colorbar": {
              "outlinewidth": 0,
              "ticks": ""
             }
            },
            "type": "scattergl"
           }
          ],
          "scattermapbox": [
           {
            "marker": {
             "colorbar": {
              "outlinewidth": 0,
              "ticks": ""
             }
            },
            "type": "scattermapbox"
           }
          ],
          "scatterpolar": [
           {
            "marker": {
             "colorbar": {
              "outlinewidth": 0,
              "ticks": ""
             }
            },
            "type": "scatterpolar"
           }
          ],
          "scatterpolargl": [
           {
            "marker": {
             "colorbar": {
              "outlinewidth": 0,
              "ticks": ""
             }
            },
            "type": "scatterpolargl"
           }
          ],
          "scatterternary": [
           {
            "marker": {
             "colorbar": {
              "outlinewidth": 0,
              "ticks": ""
             }
            },
            "type": "scatterternary"
           }
          ],
          "surface": [
           {
            "colorbar": {
             "outlinewidth": 0,
             "ticks": ""
            },
            "colorscale": [
             [
              0,
              "#0d0887"
             ],
             [
              0.1111111111111111,
              "#46039f"
             ],
             [
              0.2222222222222222,
              "#7201a8"
             ],
             [
              0.3333333333333333,
              "#9c179e"
             ],
             [
              0.4444444444444444,
              "#bd3786"
             ],
             [
              0.5555555555555556,
              "#d8576b"
             ],
             [
              0.6666666666666666,
              "#ed7953"
             ],
             [
              0.7777777777777778,
              "#fb9f3a"
             ],
             [
              0.8888888888888888,
              "#fdca26"
             ],
             [
              1,
              "#f0f921"
             ]
            ],
            "type": "surface"
           }
          ],
          "table": [
           {
            "cells": {
             "fill": {
              "color": "#EBF0F8"
             },
             "line": {
              "color": "white"
             }
            },
            "header": {
             "fill": {
              "color": "#C8D4E3"
             },
             "line": {
              "color": "white"
             }
            },
            "type": "table"
           }
          ]
         },
         "layout": {
          "annotationdefaults": {
           "arrowcolor": "#2a3f5f",
           "arrowhead": 0,
           "arrowwidth": 1
          },
          "autotypenumbers": "strict",
          "coloraxis": {
           "colorbar": {
            "outlinewidth": 0,
            "ticks": ""
           }
          },
          "colorscale": {
           "diverging": [
            [
             0,
             "#8e0152"
            ],
            [
             0.1,
             "#c51b7d"
            ],
            [
             0.2,
             "#de77ae"
            ],
            [
             0.3,
             "#f1b6da"
            ],
            [
             0.4,
             "#fde0ef"
            ],
            [
             0.5,
             "#f7f7f7"
            ],
            [
             0.6,
             "#e6f5d0"
            ],
            [
             0.7,
             "#b8e186"
            ],
            [
             0.8,
             "#7fbc41"
            ],
            [
             0.9,
             "#4d9221"
            ],
            [
             1,
             "#276419"
            ]
           ],
           "sequential": [
            [
             0,
             "#0d0887"
            ],
            [
             0.1111111111111111,
             "#46039f"
            ],
            [
             0.2222222222222222,
             "#7201a8"
            ],
            [
             0.3333333333333333,
             "#9c179e"
            ],
            [
             0.4444444444444444,
             "#bd3786"
            ],
            [
             0.5555555555555556,
             "#d8576b"
            ],
            [
             0.6666666666666666,
             "#ed7953"
            ],
            [
             0.7777777777777778,
             "#fb9f3a"
            ],
            [
             0.8888888888888888,
             "#fdca26"
            ],
            [
             1,
             "#f0f921"
            ]
           ],
           "sequentialminus": [
            [
             0,
             "#0d0887"
            ],
            [
             0.1111111111111111,
             "#46039f"
            ],
            [
             0.2222222222222222,
             "#7201a8"
            ],
            [
             0.3333333333333333,
             "#9c179e"
            ],
            [
             0.4444444444444444,
             "#bd3786"
            ],
            [
             0.5555555555555556,
             "#d8576b"
            ],
            [
             0.6666666666666666,
             "#ed7953"
            ],
            [
             0.7777777777777778,
             "#fb9f3a"
            ],
            [
             0.8888888888888888,
             "#fdca26"
            ],
            [
             1,
             "#f0f921"
            ]
           ]
          },
          "colorway": [
           "#636efa",
           "#EF553B",
           "#00cc96",
           "#ab63fa",
           "#FFA15A",
           "#19d3f3",
           "#FF6692",
           "#B6E880",
           "#FF97FF",
           "#FECB52"
          ],
          "font": {
           "color": "#2a3f5f"
          },
          "geo": {
           "bgcolor": "white",
           "lakecolor": "white",
           "landcolor": "white",
           "showlakes": true,
           "showland": true,
           "subunitcolor": "#C8D4E3"
          },
          "hoverlabel": {
           "align": "left"
          },
          "hovermode": "closest",
          "mapbox": {
           "style": "light"
          },
          "paper_bgcolor": "white",
          "plot_bgcolor": "white",
          "polar": {
           "angularaxis": {
            "gridcolor": "#EBF0F8",
            "linecolor": "#EBF0F8",
            "ticks": ""
           },
           "bgcolor": "white",
           "radialaxis": {
            "gridcolor": "#EBF0F8",
            "linecolor": "#EBF0F8",
            "ticks": ""
           }
          },
          "scene": {
           "xaxis": {
            "backgroundcolor": "white",
            "gridcolor": "#DFE8F3",
            "gridwidth": 2,
            "linecolor": "#EBF0F8",
            "showbackground": true,
            "ticks": "",
            "zerolinecolor": "#EBF0F8"
           },
           "yaxis": {
            "backgroundcolor": "white",
            "gridcolor": "#DFE8F3",
            "gridwidth": 2,
            "linecolor": "#EBF0F8",
            "showbackground": true,
            "ticks": "",
            "zerolinecolor": "#EBF0F8"
           },
           "zaxis": {
            "backgroundcolor": "white",
            "gridcolor": "#DFE8F3",
            "gridwidth": 2,
            "linecolor": "#EBF0F8",
            "showbackground": true,
            "ticks": "",
            "zerolinecolor": "#EBF0F8"
           }
          },
          "shapedefaults": {
           "line": {
            "color": "#2a3f5f"
           }
          },
          "ternary": {
           "aaxis": {
            "gridcolor": "#DFE8F3",
            "linecolor": "#A2B1C6",
            "ticks": ""
           },
           "baxis": {
            "gridcolor": "#DFE8F3",
            "linecolor": "#A2B1C6",
            "ticks": ""
           },
           "bgcolor": "white",
           "caxis": {
            "gridcolor": "#DFE8F3",
            "linecolor": "#A2B1C6",
            "ticks": ""
           }
          },
          "title": {
           "x": 0.05
          },
          "xaxis": {
           "automargin": true,
           "gridcolor": "#EBF0F8",
           "linecolor": "#EBF0F8",
           "ticks": "",
           "title": {
            "standoff": 15
           },
           "zerolinecolor": "#EBF0F8",
           "zerolinewidth": 2
          },
          "yaxis": {
           "automargin": true,
           "gridcolor": "#EBF0F8",
           "linecolor": "#EBF0F8",
           "ticks": "",
           "title": {
            "standoff": 15
           },
           "zerolinecolor": "#EBF0F8",
           "zerolinewidth": 2
          }
         }
        },
        "title": {
         "text": "sentiment",
         "x": 0.5,
         "xanchor": "center",
         "y": 0.9,
         "yanchor": "top"
        },
        "xaxis": {
         "anchor": "y",
         "autorange": true,
         "domain": [
          0,
          0.45
         ],
         "range": [
          -0.5,
          2.5
         ],
         "type": "category"
        },
        "yaxis": {
         "anchor": "x",
         "autorange": true,
         "domain": [
          0,
          1
         ],
         "range": [
          0,
          41942.10526315789
         ],
         "type": "linear"
        }
       }
      },
      "image/png": "[encoded data removed]",
      "text/html": [
       "<div>                            <div id=\"aa36de28-7b9a-4ca1-8ce8-41b0b6219cad\" class=\"plotly-graph-div\" style=\"height:525px; width:100%;\"></div>            <script type=\"text/javascript\">                require([\"plotly\"], function(Plotly) {                    window.PLOTLYENV=window.PLOTLYENV || {};                                    if (document.getElementById(\"aa36de28-7b9a-4ca1-8ce8-41b0b6219cad\")) {                    Plotly.newPlot(                        \"aa36de28-7b9a-4ca1-8ce8-41b0b6219cad\",                        [{\"marker\":{\"line\":{\"color\":\"white\",\"width\":1}},\"name\":\"sentiment\",\"showlegend\":false,\"text\":[\"39845\",\"6797\",\"6354\"],\"textposition\":\"auto\",\"x\":[\"Positive\",\"Negative\",\"Neutral\"],\"xaxis\":\"x\",\"y\":[39845,6797,6354],\"yaxis\":\"y\",\"type\":\"bar\"},{\"domain\":{\"x\":[0.55,1.0],\"y\":[0.0,1.0]},\"labels\":[\"Positive\",\"Negative\",\"Neutral\"],\"name\":\"sentiment\",\"showlegend\":false,\"textposition\":\"auto\",\"values\":[39845,6797,6354],\"type\":\"pie\"}],                        {\"template\":{\"data\":{\"barpolar\":[{\"marker\":{\"line\":{\"color\":\"white\",\"width\":0.5},\"pattern\":{\"fillmode\":\"overlay\",\"size\":10,\"solidity\":0.2}},\"type\":\"barpolar\"}],\"bar\":[{\"error_x\":{\"color\":\"#2a3f5f\"},\"error_y\":{\"color\":\"#2a3f5f\"},\"marker\":{\"line\":{\"color\":\"white\",\"width\":0.5},\"pattern\":{\"fillmode\":\"overlay\",\"size\":10,\"solidity\":0.2}},\"type\":\"bar\"}],\"carpet\":[{\"aaxis\":{\"endlinecolor\":\"#2a3f5f\",\"gridcolor\":\"#C8D4E3\",\"linecolor\":\"#C8D4E3\",\"minorgridcolor\":\"#C8D4E3\",\"startlinecolor\":\"#2a3f5f\"},\"baxis\":{\"endlinecolor\":\"#2a3f5f\",\"gridcolor\":\"#C8D4E3\",\"linecolor\":\"#C8D4E3\",\"minorgridcolor\":\"#C8D4E3\",\"startlinecolor\":\"#2a3f5f\"},\"type\":\"carpet\"}],\"choropleth\":[{\"colorbar\":{\"outlinewidth\":0,\"ticks\":\"\"},\"type\":\"choropleth\"}],\"contourcarpet\":[{\"colorbar\":{\"outlinewidth\":0,\"ticks\":\"\"},\"type\":\"contourcarpet\"}],\"contour\":[{\"colorbar\":{\"outlinewidth\":0,\"ticks\":\"\"},\"colorscale\":[[0.0,\"#0d0887\"],[0.1111111111111111,\"#46039f\"],[0.2222222222222222,\"#7201a8\"],[0.3333333333333333,\"#9c179e\"],[0.4444444444444444,\"#bd3786\"],[0.5555555555555556,\"#d8576b\"],[0.6666666666666666,\"#ed7953\"],[0.7777777777777778,\"#fb9f3a\"],[0.8888888888888888,\"#fdca26\"],[1.0,\"#f0f921\"]],\"type\":\"contour\"}],\"heatmapgl\":[{\"colorbar\":{\"outlinewidth\":0,\"ticks\":\"\"},\"colorscale\":[[0.0,\"#0d0887\"],[0.1111111111111111,\"#46039f\"],[0.2222222222222222,\"#7201a8\"],[0.3333333333333333,\"#9c179e\"],[0.4444444444444444,\"#bd3786\"],[0.5555555555555556,\"#d8576b\"],[0.6666666666666666,\"#ed7953\"],[0.7777777777777778,\"#fb9f3a\"],[0.8888888888888888,\"#fdca26\"],[1.0,\"#f0f921\"]],\"type\":\"heatmapgl\"}],\"heatmap\":[{\"colorbar\":{\"outlinewidth\":0,\"ticks\":\"\"},\"colorscale\":[[0.0,\"#0d0887\"],[0.1111111111111111,\"#46039f\"],[0.2222222222222222,\"#7201a8\"],[0.3333333333333333,\"#9c179e\"],[0.4444444444444444,\"#bd3786\"],[0.5555555555555556,\"#d8576b\"],[0.6666666666666666,\"#ed7953\"],[0.7777777777777778,\"#fb9f3a\"],[0.8888888888888888,\"#fdca26\"],[1.0,\"#f0f921\"]],\"type\":\"heatmap\"}],\"histogram2dcontour\":[{\"colorbar\":{\"outlinewidth\":0,\"ticks\":\"\"},\"colorscale\":[[0.0,\"#0d0887\"],[0.1111111111111111,\"#46039f\"],[0.2222222222222222,\"#7201a8\"],[0.3333333333333333,\"#9c179e\"],[0.4444444444444444,\"#bd3786\"],[0.5555555555555556,\"#d8576b\"],[0.6666666666666666,\"#ed7953\"],[0.7777777777777778,\"#fb9f3a\"],[0.8888888888888888,\"#fdca26\"],[1.0,\"#f0f921\"]],\"type\":\"histogram2dcontour\"}],\"histogram2d\":[{\"colorbar\":{\"outlinewidth\":0,\"ticks\":\"\"},\"colorscale\":[[0.0,\"#0d0887\"],[0.1111111111111111,\"#46039f\"],[0.2222222222222222,\"#7201a8\"],[0.3333333333333333,\"#9c179e\"],[0.4444444444444444,\"#bd3786\"],[0.5555555555555556,\"#d8576b\"],[0.6666666666666666,\"#ed7953\"],[0.7777777777777778,\"#fb9f3a\"],[0.8888888888888888,\"#fdca26\"],[1.0,\"#f0f921\"]],\"type\":\"histogram2d\"}],\"histogram\":[{\"marker\":{\"pattern\":{\"fillmode\":\"overlay\",\"size\":10,\"solidity\":0.2}},\"type\":\"histogram\"}],\"mesh3d\":[{\"colorbar\":{\"outlinewidth\":0,\"ticks\":\"\"},\"type\":\"mesh3d\"}],\"parcoords\":[{\"line\":{\"colorbar\":{\"outlinewidth\":0,\"ticks\":\"\"}},\"type\":\"parcoords\"}],\"pie\":[{\"automargin\":true,\"type\":\"pie\"}],\"scatter3d\":[{\"line\":{\"colorbar\":{\"outlinewidth\":0,\"ticks\":\"\"}},\"marker\":{\"colorbar\":{\"outlinewidth\":0,\"ticks\":\"\"}},\"type\":\"scatter3d\"}],\"scattercarpet\":[{\"marker\":{\"colorbar\":{\"outlinewidth\":0,\"ticks\":\"\"}},\"type\":\"scattercarpet\"}],\"scattergeo\":[{\"marker\":{\"colorbar\":{\"outlinewidth\":0,\"ticks\":\"\"}},\"type\":\"scattergeo\"}],\"scattergl\":[{\"marker\":{\"colorbar\":{\"outlinewidth\":0,\"ticks\":\"\"}},\"type\":\"scattergl\"}],\"scattermapbox\":[{\"marker\":{\"colorbar\":{\"outlinewidth\":0,\"ticks\":\"\"}},\"type\":\"scattermapbox\"}],\"scatterpolargl\":[{\"marker\":{\"colorbar\":{\"outlinewidth\":0,\"ticks\":\"\"}},\"type\":\"scatterpolargl\"}],\"scatterpolar\":[{\"marker\":{\"colorbar\":{\"outlinewidth\":0,\"ticks\":\"\"}},\"type\":\"scatterpolar\"}],\"scatter\":[{\"fillpattern\":{\"fillmode\":\"overlay\",\"size\":10,\"solidity\":0.2},\"type\":\"scatter\"}],\"scatterternary\":[{\"marker\":{\"colorbar\":{\"outlinewidth\":0,\"ticks\":\"\"}},\"type\":\"scatterternary\"}],\"surface\":[{\"colorbar\":{\"outlinewidth\":0,\"ticks\":\"\"},\"colorscale\":[[0.0,\"#0d0887\"],[0.1111111111111111,\"#46039f\"],[0.2222222222222222,\"#7201a8\"],[0.3333333333333333,\"#9c179e\"],[0.4444444444444444,\"#bd3786\"],[0.5555555555555556,\"#d8576b\"],[0.6666666666666666,\"#ed7953\"],[0.7777777777777778,\"#fb9f3a\"],[0.8888888888888888,\"#fdca26\"],[1.0,\"#f0f921\"]],\"type\":\"surface\"}],\"table\":[{\"cells\":{\"fill\":{\"color\":\"#EBF0F8\"},\"line\":{\"color\":\"white\"}},\"header\":{\"fill\":{\"color\":\"#C8D4E3\"},\"line\":{\"color\":\"white\"}},\"type\":\"table\"}]},\"layout\":{\"annotationdefaults\":{\"arrowcolor\":\"#2a3f5f\",\"arrowhead\":0,\"arrowwidth\":1},\"autotypenumbers\":\"strict\",\"coloraxis\":{\"colorbar\":{\"outlinewidth\":0,\"ticks\":\"\"}},\"colorscale\":{\"diverging\":[[0,\"#8e0152\"],[0.1,\"#c51b7d\"],[0.2,\"#de77ae\"],[0.3,\"#f1b6da\"],[0.4,\"#fde0ef\"],[0.5,\"#f7f7f7\"],[0.6,\"#e6f5d0\"],[0.7,\"#b8e186\"],[0.8,\"#7fbc41\"],[0.9,\"#4d9221\"],[1,\"#276419\"]],\"sequential\":[[0.0,\"#0d0887\"],[0.1111111111111111,\"#46039f\"],[0.2222222222222222,\"#7201a8\"],[0.3333333333333333,\"#9c179e\"],[0.4444444444444444,\"#bd3786\"],[0.5555555555555556,\"#d8576b\"],[0.6666666666666666,\"#ed7953\"],[0.7777777777777778,\"#fb9f3a\"],[0.8888888888888888,\"#fdca26\"],[1.0,\"#f0f921\"]],\"sequentialminus\":[[0.0,\"#0d0887\"],[0.1111111111111111,\"#46039f\"],[0.2222222222222222,\"#7201a8\"],[0.3333333333333333,\"#9c179e\"],[0.4444444444444444,\"#bd3786\"],[0.5555555555555556,\"#d8576b\"],[0.6666666666666666,\"#ed7953\"],[0.7777777777777778,\"#fb9f3a\"],[0.8888888888888888,\"#fdca26\"],[1.0,\"#f0f921\"]]},\"colorway\":[\"#636efa\",\"#EF553B\",\"#00cc96\",\"#ab63fa\",\"#FFA15A\",\"#19d3f3\",\"#FF6692\",\"#B6E880\",\"#FF97FF\",\"#FECB52\"],\"font\":{\"color\":\"#2a3f5f\"},\"geo\":{\"bgcolor\":\"white\",\"lakecolor\":\"white\",\"landcolor\":\"white\",\"showlakes\":true,\"showland\":true,\"subunitcolor\":\"#C8D4E3\"},\"hoverlabel\":{\"align\":\"left\"},\"hovermode\":\"closest\",\"mapbox\":{\"style\":\"light\"},\"paper_bgcolor\":\"white\",\"plot_bgcolor\":\"white\",\"polar\":{\"angularaxis\":{\"gridcolor\":\"#EBF0F8\",\"linecolor\":\"#EBF0F8\",\"ticks\":\"\"},\"bgcolor\":\"white\",\"radialaxis\":{\"gridcolor\":\"#EBF0F8\",\"linecolor\":\"#EBF0F8\",\"ticks\":\"\"}},\"scene\":{\"xaxis\":{\"backgroundcolor\":\"white\",\"gridcolor\":\"#DFE8F3\",\"gridwidth\":2,\"linecolor\":\"#EBF0F8\",\"showbackground\":true,\"ticks\":\"\",\"zerolinecolor\":\"#EBF0F8\"},\"yaxis\":{\"backgroundcolor\":\"white\",\"gridcolor\":\"#DFE8F3\",\"gridwidth\":2,\"linecolor\":\"#EBF0F8\",\"showbackground\":true,\"ticks\":\"\",\"zerolinecolor\":\"#EBF0F8\"},\"zaxis\":{\"backgroundcolor\":\"white\",\"gridcolor\":\"#DFE8F3\",\"gridwidth\":2,\"linecolor\":\"#EBF0F8\",\"showbackground\":true,\"ticks\":\"\",\"zerolinecolor\":\"#EBF0F8\"}},\"shapedefaults\":{\"line\":{\"color\":\"#2a3f5f\"}},\"ternary\":{\"aaxis\":{\"gridcolor\":\"#DFE8F3\",\"linecolor\":\"#A2B1C6\",\"ticks\":\"\"},\"baxis\":{\"gridcolor\":\"#DFE8F3\",\"linecolor\":\"#A2B1C6\",\"ticks\":\"\"},\"bgcolor\":\"white\",\"caxis\":{\"gridcolor\":\"#DFE8F3\",\"linecolor\":\"#A2B1C6\",\"ticks\":\"\"}},\"title\":{\"x\":0.05},\"xaxis\":{\"automargin\":true,\"gridcolor\":\"#EBF0F8\",\"linecolor\":\"#EBF0F8\",\"ticks\":\"\",\"title\":{\"standoff\":15},\"zerolinecolor\":\"#EBF0F8\",\"zerolinewidth\":2},\"yaxis\":{\"automargin\":true,\"gridcolor\":\"#EBF0F8\",\"linecolor\":\"#EBF0F8\",\"ticks\":\"\",\"title\":{\"standoff\":15},\"zerolinecolor\":\"#EBF0F8\",\"zerolinewidth\":2}}},\"title\":{\"text\":\"sentiment\",\"x\":0.5,\"xanchor\":\"center\",\"y\":0.9,\"yanchor\":\"top\"},\"xaxis\":{\"anchor\":\"y\",\"domain\":[0.0,0.45]},\"yaxis\":{\"anchor\":\"x\",\"domain\":[0.0,1.0]}},                        {\"responsive\": true}                    ).then(function(){\n",
       "                            \n",
       "var gd = document.getElementById('aa36de28-7b9a-4ca1-8ce8-41b0b6219cad');\n",
       "var x = new MutationObserver(function (mutations, observer) {{\n",
       "        var display = window.getComputedStyle(gd).display;\n",
       "        if (!display || display === 'none') {{\n",
       "            console.log([gd, 'removed!']);\n",
       "            Plotly.purge(gd);\n",
       "            observer.disconnect();\n",
       "        }}\n",
       "}});\n",
       "\n",
       "// Listen for the removal of the full notebook cells\n",
       "var notebookContainer = gd.closest('#notebook-container');\n",
       "if (notebookContainer) {{\n",
       "    x.observe(notebookContainer, {childList: true});\n",
       "}}\n",
       "\n",
       "// Listen for the clearing of the current output cell\n",
       "var outputEl = gd.closest('.output');\n",
       "if (outputEl) {{\n",
       "    x.observe(outputEl, {childList: true});\n",
       "}}\n",
       "\n",
       "                        })                };                });            </script>        </div>"
      ]
     },
     "metadata": {},
     "output_type": "display_data"
    }
   ],
   "source": [
    "categorical_variable_summary(df, 'sentiment')"
   ]
  },
  {
   "cell_type": "code",
   "execution_count": null,
   "id": "fd5c96d7-a17e-4bcd-9803-c677cc2b6371",
   "metadata": {},
   "outputs": [],
   "source": []
  }
 ],
 "metadata": {
  "kernelspec": {
   "display_name": "Python 3 (ipykernel)",
   "language": "python",
   "name": "python3"
  },
  "language_info": {
   "codemirror_mode": {
    "name": "ipython",
    "version": 3
   },
   "file_extension": ".py",
   "mimetype": "text/x-python",
   "name": "python",
   "nbconvert_exporter": "python",
   "pygments_lexer": "ipython3",
   "version": "3.11.2"
  }
 },
 "nbformat": 4,
 "nbformat_minor": 5
}
